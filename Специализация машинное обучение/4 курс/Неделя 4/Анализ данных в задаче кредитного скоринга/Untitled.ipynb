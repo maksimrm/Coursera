{
 "cells": [
  {
   "cell_type": "code",
   "execution_count": 128,
   "metadata": {
    "ExecuteTime": {
     "end_time": "2019-11-18T23:13:37.866202Z",
     "start_time": "2019-11-18T23:13:37.862744Z"
    }
   },
   "outputs": [],
   "source": [
    "import pandas as pd\n",
    "import numpy as np\n",
    "from scipy import stats\n",
    "from statsmodels.stats.weightstats import  _tconfint_generic\n",
    "from matplotlib import pyplot as plt\n",
    "\n",
    "from scipy.stats import chi2_contingency\n"
   ]
  },
  {
   "cell_type": "code",
   "execution_count": 129,
   "metadata": {
    "ExecuteTime": {
     "end_time": "2019-11-18T23:13:38.180115Z",
     "start_time": "2019-11-18T23:13:38.104572Z"
    }
   },
   "outputs": [],
   "source": [
    "data = pd.read_csv(\"credit_card_default_analysis.csv\")"
   ]
  },
  {
   "cell_type": "code",
   "execution_count": 130,
   "metadata": {
    "ExecuteTime": {
     "end_time": "2019-11-18T23:13:38.390749Z",
     "start_time": "2019-11-18T23:13:38.372694Z"
    }
   },
   "outputs": [
    {
     "data": {
      "text/html": [
       "<div>\n",
       "<style scoped>\n",
       "    .dataframe tbody tr th:only-of-type {\n",
       "        vertical-align: middle;\n",
       "    }\n",
       "\n",
       "    .dataframe tbody tr th {\n",
       "        vertical-align: top;\n",
       "    }\n",
       "\n",
       "    .dataframe thead th {\n",
       "        text-align: right;\n",
       "    }\n",
       "</style>\n",
       "<table border=\"1\" class=\"dataframe\">\n",
       "  <thead>\n",
       "    <tr style=\"text-align: right;\">\n",
       "      <th></th>\n",
       "      <th>ID</th>\n",
       "      <th>LIMIT_BAL</th>\n",
       "      <th>SEX</th>\n",
       "      <th>EDUCATION</th>\n",
       "      <th>MARRIAGE</th>\n",
       "      <th>AGE</th>\n",
       "      <th>PAY_0</th>\n",
       "      <th>PAY_2</th>\n",
       "      <th>PAY_3</th>\n",
       "      <th>PAY_4</th>\n",
       "      <th>...</th>\n",
       "      <th>BILL_AMT4</th>\n",
       "      <th>BILL_AMT5</th>\n",
       "      <th>BILL_AMT6</th>\n",
       "      <th>PAY_AMT1</th>\n",
       "      <th>PAY_AMT2</th>\n",
       "      <th>PAY_AMT3</th>\n",
       "      <th>PAY_AMT4</th>\n",
       "      <th>PAY_AMT5</th>\n",
       "      <th>PAY_AMT6</th>\n",
       "      <th>default</th>\n",
       "    </tr>\n",
       "  </thead>\n",
       "  <tbody>\n",
       "    <tr>\n",
       "      <td>0</td>\n",
       "      <td>1</td>\n",
       "      <td>20000</td>\n",
       "      <td>2</td>\n",
       "      <td>2</td>\n",
       "      <td>1</td>\n",
       "      <td>24</td>\n",
       "      <td>2</td>\n",
       "      <td>2</td>\n",
       "      <td>0</td>\n",
       "      <td>0</td>\n",
       "      <td>...</td>\n",
       "      <td>0</td>\n",
       "      <td>0</td>\n",
       "      <td>0</td>\n",
       "      <td>0</td>\n",
       "      <td>689</td>\n",
       "      <td>0</td>\n",
       "      <td>0</td>\n",
       "      <td>0</td>\n",
       "      <td>0</td>\n",
       "      <td>1</td>\n",
       "    </tr>\n",
       "    <tr>\n",
       "      <td>1</td>\n",
       "      <td>2</td>\n",
       "      <td>120000</td>\n",
       "      <td>2</td>\n",
       "      <td>2</td>\n",
       "      <td>2</td>\n",
       "      <td>26</td>\n",
       "      <td>0</td>\n",
       "      <td>2</td>\n",
       "      <td>0</td>\n",
       "      <td>0</td>\n",
       "      <td>...</td>\n",
       "      <td>3272</td>\n",
       "      <td>3455</td>\n",
       "      <td>3261</td>\n",
       "      <td>0</td>\n",
       "      <td>1000</td>\n",
       "      <td>1000</td>\n",
       "      <td>1000</td>\n",
       "      <td>0</td>\n",
       "      <td>2000</td>\n",
       "      <td>1</td>\n",
       "    </tr>\n",
       "    <tr>\n",
       "      <td>2</td>\n",
       "      <td>3</td>\n",
       "      <td>90000</td>\n",
       "      <td>2</td>\n",
       "      <td>2</td>\n",
       "      <td>2</td>\n",
       "      <td>34</td>\n",
       "      <td>0</td>\n",
       "      <td>0</td>\n",
       "      <td>0</td>\n",
       "      <td>0</td>\n",
       "      <td>...</td>\n",
       "      <td>14331</td>\n",
       "      <td>14948</td>\n",
       "      <td>15549</td>\n",
       "      <td>1518</td>\n",
       "      <td>1500</td>\n",
       "      <td>1000</td>\n",
       "      <td>1000</td>\n",
       "      <td>1000</td>\n",
       "      <td>5000</td>\n",
       "      <td>0</td>\n",
       "    </tr>\n",
       "    <tr>\n",
       "      <td>3</td>\n",
       "      <td>4</td>\n",
       "      <td>50000</td>\n",
       "      <td>2</td>\n",
       "      <td>2</td>\n",
       "      <td>1</td>\n",
       "      <td>37</td>\n",
       "      <td>0</td>\n",
       "      <td>0</td>\n",
       "      <td>0</td>\n",
       "      <td>0</td>\n",
       "      <td>...</td>\n",
       "      <td>28314</td>\n",
       "      <td>28959</td>\n",
       "      <td>29547</td>\n",
       "      <td>2000</td>\n",
       "      <td>2019</td>\n",
       "      <td>1200</td>\n",
       "      <td>1100</td>\n",
       "      <td>1069</td>\n",
       "      <td>1000</td>\n",
       "      <td>0</td>\n",
       "    </tr>\n",
       "    <tr>\n",
       "      <td>4</td>\n",
       "      <td>5</td>\n",
       "      <td>50000</td>\n",
       "      <td>1</td>\n",
       "      <td>2</td>\n",
       "      <td>1</td>\n",
       "      <td>57</td>\n",
       "      <td>0</td>\n",
       "      <td>0</td>\n",
       "      <td>0</td>\n",
       "      <td>0</td>\n",
       "      <td>...</td>\n",
       "      <td>20940</td>\n",
       "      <td>19146</td>\n",
       "      <td>19131</td>\n",
       "      <td>2000</td>\n",
       "      <td>36681</td>\n",
       "      <td>10000</td>\n",
       "      <td>9000</td>\n",
       "      <td>689</td>\n",
       "      <td>679</td>\n",
       "      <td>0</td>\n",
       "    </tr>\n",
       "    <tr>\n",
       "      <td>...</td>\n",
       "      <td>...</td>\n",
       "      <td>...</td>\n",
       "      <td>...</td>\n",
       "      <td>...</td>\n",
       "      <td>...</td>\n",
       "      <td>...</td>\n",
       "      <td>...</td>\n",
       "      <td>...</td>\n",
       "      <td>...</td>\n",
       "      <td>...</td>\n",
       "      <td>...</td>\n",
       "      <td>...</td>\n",
       "      <td>...</td>\n",
       "      <td>...</td>\n",
       "      <td>...</td>\n",
       "      <td>...</td>\n",
       "      <td>...</td>\n",
       "      <td>...</td>\n",
       "      <td>...</td>\n",
       "      <td>...</td>\n",
       "      <td>...</td>\n",
       "    </tr>\n",
       "    <tr>\n",
       "      <td>29995</td>\n",
       "      <td>29996</td>\n",
       "      <td>220000</td>\n",
       "      <td>1</td>\n",
       "      <td>3</td>\n",
       "      <td>1</td>\n",
       "      <td>39</td>\n",
       "      <td>0</td>\n",
       "      <td>0</td>\n",
       "      <td>0</td>\n",
       "      <td>0</td>\n",
       "      <td>...</td>\n",
       "      <td>88004</td>\n",
       "      <td>31237</td>\n",
       "      <td>15980</td>\n",
       "      <td>8500</td>\n",
       "      <td>20000</td>\n",
       "      <td>5003</td>\n",
       "      <td>3047</td>\n",
       "      <td>5000</td>\n",
       "      <td>1000</td>\n",
       "      <td>0</td>\n",
       "    </tr>\n",
       "    <tr>\n",
       "      <td>29996</td>\n",
       "      <td>29997</td>\n",
       "      <td>150000</td>\n",
       "      <td>1</td>\n",
       "      <td>3</td>\n",
       "      <td>2</td>\n",
       "      <td>43</td>\n",
       "      <td>0</td>\n",
       "      <td>0</td>\n",
       "      <td>0</td>\n",
       "      <td>0</td>\n",
       "      <td>...</td>\n",
       "      <td>8979</td>\n",
       "      <td>5190</td>\n",
       "      <td>0</td>\n",
       "      <td>1837</td>\n",
       "      <td>3526</td>\n",
       "      <td>8998</td>\n",
       "      <td>129</td>\n",
       "      <td>0</td>\n",
       "      <td>0</td>\n",
       "      <td>0</td>\n",
       "    </tr>\n",
       "    <tr>\n",
       "      <td>29997</td>\n",
       "      <td>29998</td>\n",
       "      <td>30000</td>\n",
       "      <td>1</td>\n",
       "      <td>2</td>\n",
       "      <td>2</td>\n",
       "      <td>37</td>\n",
       "      <td>4</td>\n",
       "      <td>3</td>\n",
       "      <td>2</td>\n",
       "      <td>0</td>\n",
       "      <td>...</td>\n",
       "      <td>20878</td>\n",
       "      <td>20582</td>\n",
       "      <td>19357</td>\n",
       "      <td>0</td>\n",
       "      <td>0</td>\n",
       "      <td>22000</td>\n",
       "      <td>4200</td>\n",
       "      <td>2000</td>\n",
       "      <td>3100</td>\n",
       "      <td>1</td>\n",
       "    </tr>\n",
       "    <tr>\n",
       "      <td>29998</td>\n",
       "      <td>29999</td>\n",
       "      <td>80000</td>\n",
       "      <td>1</td>\n",
       "      <td>3</td>\n",
       "      <td>1</td>\n",
       "      <td>41</td>\n",
       "      <td>1</td>\n",
       "      <td>0</td>\n",
       "      <td>0</td>\n",
       "      <td>0</td>\n",
       "      <td>...</td>\n",
       "      <td>52774</td>\n",
       "      <td>11855</td>\n",
       "      <td>48944</td>\n",
       "      <td>85900</td>\n",
       "      <td>3409</td>\n",
       "      <td>1178</td>\n",
       "      <td>1926</td>\n",
       "      <td>52964</td>\n",
       "      <td>1804</td>\n",
       "      <td>1</td>\n",
       "    </tr>\n",
       "    <tr>\n",
       "      <td>29999</td>\n",
       "      <td>30000</td>\n",
       "      <td>50000</td>\n",
       "      <td>1</td>\n",
       "      <td>2</td>\n",
       "      <td>1</td>\n",
       "      <td>46</td>\n",
       "      <td>0</td>\n",
       "      <td>0</td>\n",
       "      <td>0</td>\n",
       "      <td>0</td>\n",
       "      <td>...</td>\n",
       "      <td>36535</td>\n",
       "      <td>32428</td>\n",
       "      <td>15313</td>\n",
       "      <td>2078</td>\n",
       "      <td>1800</td>\n",
       "      <td>1430</td>\n",
       "      <td>1000</td>\n",
       "      <td>1000</td>\n",
       "      <td>1000</td>\n",
       "      <td>1</td>\n",
       "    </tr>\n",
       "  </tbody>\n",
       "</table>\n",
       "<p>30000 rows × 25 columns</p>\n",
       "</div>"
      ],
      "text/plain": [
       "          ID  LIMIT_BAL  SEX  EDUCATION  MARRIAGE  AGE  PAY_0  PAY_2  PAY_3  \\\n",
       "0          1      20000    2          2         1   24      2      2      0   \n",
       "1          2     120000    2          2         2   26      0      2      0   \n",
       "2          3      90000    2          2         2   34      0      0      0   \n",
       "3          4      50000    2          2         1   37      0      0      0   \n",
       "4          5      50000    1          2         1   57      0      0      0   \n",
       "...      ...        ...  ...        ...       ...  ...    ...    ...    ...   \n",
       "29995  29996     220000    1          3         1   39      0      0      0   \n",
       "29996  29997     150000    1          3         2   43      0      0      0   \n",
       "29997  29998      30000    1          2         2   37      4      3      2   \n",
       "29998  29999      80000    1          3         1   41      1      0      0   \n",
       "29999  30000      50000    1          2         1   46      0      0      0   \n",
       "\n",
       "       PAY_4  ...  BILL_AMT4  BILL_AMT5  BILL_AMT6  PAY_AMT1  PAY_AMT2  \\\n",
       "0          0  ...          0          0          0         0       689   \n",
       "1          0  ...       3272       3455       3261         0      1000   \n",
       "2          0  ...      14331      14948      15549      1518      1500   \n",
       "3          0  ...      28314      28959      29547      2000      2019   \n",
       "4          0  ...      20940      19146      19131      2000     36681   \n",
       "...      ...  ...        ...        ...        ...       ...       ...   \n",
       "29995      0  ...      88004      31237      15980      8500     20000   \n",
       "29996      0  ...       8979       5190          0      1837      3526   \n",
       "29997      0  ...      20878      20582      19357         0         0   \n",
       "29998      0  ...      52774      11855      48944     85900      3409   \n",
       "29999      0  ...      36535      32428      15313      2078      1800   \n",
       "\n",
       "       PAY_AMT3  PAY_AMT4  PAY_AMT5  PAY_AMT6  default  \n",
       "0             0         0         0         0        1  \n",
       "1          1000      1000         0      2000        1  \n",
       "2          1000      1000      1000      5000        0  \n",
       "3          1200      1100      1069      1000        0  \n",
       "4         10000      9000       689       679        0  \n",
       "...         ...       ...       ...       ...      ...  \n",
       "29995      5003      3047      5000      1000        0  \n",
       "29996      8998       129         0         0        0  \n",
       "29997     22000      4200      2000      3100        1  \n",
       "29998      1178      1926     52964      1804        1  \n",
       "29999      1430      1000      1000      1000        1  \n",
       "\n",
       "[30000 rows x 25 columns]"
      ]
     },
     "execution_count": 130,
     "metadata": {},
     "output_type": "execute_result"
    }
   ],
   "source": [
    "data"
   ]
  },
  {
   "cell_type": "markdown",
   "metadata": {},
   "source": [
    "# Задание 1"
   ]
  },
  {
   "cell_type": "markdown",
   "metadata": {},
   "source": [
    "Гипотезу о равенстве медиан будем проверять с помощью персентилей и пересечения доверетильных интервалов (Как мы это делали в первой недели) \n",
    "Также визуализируем доверительные интервалы"
   ]
  },
  {
   "cell_type": "code",
   "execution_count": 131,
   "metadata": {
    "ExecuteTime": {
     "end_time": "2019-11-18T23:13:39.422337Z",
     "start_time": "2019-11-18T23:13:39.417689Z"
    }
   },
   "outputs": [],
   "source": [
    "X_1 = data[\"LIMIT_BAL\"].values[data[\"default\"] == 0]\n",
    "X_2 = data[\"LIMIT_BAL\"].values[data[\"default\"] == 1]"
   ]
  },
  {
   "cell_type": "code",
   "execution_count": 132,
   "metadata": {
    "ExecuteTime": {
     "end_time": "2019-11-18T23:13:40.181119Z",
     "start_time": "2019-11-18T23:13:39.922165Z"
    }
   },
   "outputs": [
    {
     "data": {
      "image/png": "[encoded data removed]",
      "text/plain": [
       "<Figure size 1440x720 with 1 Axes>"
      ]
     },
     "metadata": {
      "needs_background": "light"
     },
     "output_type": "display_data"
    }
   ],
   "source": [
    "plt.figure(figsize = (20, 10))\n",
    "plt.title(\"Гистограммы распределений одобренных кредитов\")\n",
    "plt.hist(X_1, bins = 25, label = \"кредит вернули\")\n",
    "plt.hist(X_2, bins = 25, label = \"кредит не вернули\")\n",
    "plt.legend()\n",
    "plt.show()"
   ]
  },
  {
   "cell_type": "code",
   "execution_count": 133,
   "metadata": {
    "ExecuteTime": {
     "end_time": "2019-11-18T23:13:40.588455Z",
     "start_time": "2019-11-18T23:13:40.584352Z"
    }
   },
   "outputs": [],
   "source": [
    "def stat_intervals(stat, alpha):\n",
    "    boundaries = np.percentile(stat, [100 * alpha / 2., 100 * (1 - alpha / 2.)])\n",
    "    return boundaries\n",
    "def get_bootstrap_samples(data, n_samples):\n",
    "    indices = np.random.randint(0, len(data), (n_samples, len(data)))\n",
    "    samples = data[indices]\n",
    "    return samples"
   ]
  },
  {
   "cell_type": "code",
   "execution_count": 134,
   "metadata": {
    "ExecuteTime": {
     "end_time": "2019-11-18T23:13:41.885574Z",
     "start_time": "2019-11-18T23:13:41.066128Z"
    }
   },
   "outputs": [],
   "source": [
    "sample1 = np.median(get_bootstrap_samples(X_1, 1000), axis = 1)\n",
    "sample2 = np.median(get_bootstrap_samples(X_2, 1000), axis = 1)"
   ]
  },
  {
   "cell_type": "code",
   "execution_count": 135,
   "metadata": {
    "ExecuteTime": {
     "end_time": "2019-11-18T23:13:41.947633Z",
     "start_time": "2019-11-18T23:13:41.945263Z"
    }
   },
   "outputs": [],
   "source": [
    "X_1per = stat_intervals(sample1, 0.05)"
   ]
  },
  {
   "cell_type": "code",
   "execution_count": 136,
   "metadata": {
    "ExecuteTime": {
     "end_time": "2019-11-18T23:13:42.008137Z",
     "start_time": "2019-11-18T23:13:42.006051Z"
    }
   },
   "outputs": [],
   "source": [
    "X_2per = stat_intervals(sample2, 0.05)"
   ]
  },
  {
   "cell_type": "code",
   "execution_count": 137,
   "metadata": {
    "ExecuteTime": {
     "end_time": "2019-11-18T23:13:42.403233Z",
     "start_time": "2019-11-18T23:13:42.399986Z"
    }
   },
   "outputs": [
    {
     "data": {
      "text/plain": [
       "array([80000., 90000.])"
      ]
     },
     "execution_count": 137,
     "metadata": {},
     "output_type": "execute_result"
    }
   ],
   "source": [
    "X_2per"
   ]
  },
  {
   "cell_type": "code",
   "execution_count": 138,
   "metadata": {
    "ExecuteTime": {
     "end_time": "2019-11-18T23:13:42.880729Z",
     "start_time": "2019-11-18T23:13:42.877363Z"
    }
   },
   "outputs": [
    {
     "data": {
      "text/plain": [
       "array([150000., 150000.])"
      ]
     },
     "execution_count": 138,
     "metadata": {},
     "output_type": "execute_result"
    }
   ],
   "source": [
    "X_1per"
   ]
  },
  {
   "cell_type": "code",
   "execution_count": 143,
   "metadata": {
    "ExecuteTime": {
     "end_time": "2019-11-18T23:14:31.623362Z",
     "start_time": "2019-11-18T23:14:31.461541Z"
    },
    "scrolled": false
   },
   "outputs": [
    {
     "data": {
      "image/png": "[encoded data removed]",
      "text/plain": [
       "<Figure size 720x504 with 1 Axes>"
      ]
     },
     "metadata": {
      "needs_background": "light"
     },
     "output_type": "display_data"
    }
   ],
   "source": [
    "plt.figure(figsize=(10,7))\n",
    "plt.plot(np.linspace(X_1per[0], X_1per[1], 100), np.ones(100),\"p\", label = \"Кредит вернули\")\n",
    "plt.plot(np.linspace(X_2per[0], X_2per[1], 100), np.ones(100)/2, label = \"Кредит не вернули\")\n",
    "plt.xlim(left = 70000, right = 160000)\n",
    "plt.ylim(bottom = 0, top = 1.5)\n",
    "plt.legend()\n",
    "plt.show()"
   ]
  },
  {
   "cell_type": "markdown",
   "metadata": {},
   "source": [
    "Как мы видим из персентилей доверительные интервалы не пересекаются\n",
    "\n",
    "Давайте построим доверительный интервал с помощью распределения стьюдента для средних"
   ]
  },
  {
   "cell_type": "code",
   "execution_count": 10,
   "metadata": {
    "ExecuteTime": {
     "end_time": "2019-11-18T20:59:50.036488Z",
     "start_time": "2019-11-18T20:59:50.030939Z"
    }
   },
   "outputs": [],
   "source": [
    "X_1t = _tconfint_generic(X_1.mean(), X_1.std(ddof = 1)/np.sqrt(len(X_1)),\n",
    "                    len(X_1) - 1,\n",
    "                       0.05, 'two-sided')\n",
    "X_2t = _tconfint_generic(X_2.mean(), X_2.std(ddof = 1)/np.sqrt(len(X_2)),\n",
    "                    len(X_2) - 1,\n",
    "                       0.05, 'two-sided')"
   ]
  },
  {
   "cell_type": "code",
   "execution_count": 11,
   "metadata": {
    "ExecuteTime": {
     "end_time": "2019-11-18T20:59:50.467613Z",
     "start_time": "2019-11-18T20:59:50.315093Z"
    },
    "scrolled": false
   },
   "outputs": [
    {
     "data": {
      "image/png": "[encoded data removed]",
      "text/plain": [
       "<Figure size 720x504 with 1 Axes>"
      ]
     },
     "metadata": {
      "needs_background": "light"
     },
     "output_type": "display_data"
    }
   ],
   "source": [
    "plt.figure(figsize=(10,7))\n",
    "plt.plot(np.linspace(X_1t[0], X_1t[1], 100), np.ones(100), label = \"Кредит вернули\")\n",
    "plt.plot(np.linspace(X_2t[0], X_2t[1], 100), np.ones(100)/2, label = \"Кредит не вернули\")\n",
    "plt.xlim(left = 120000, right = 190000)\n",
    "plt.ylim(bottom = 0, top = 1.5)\n",
    "plt.legend()\n",
    "plt.show()"
   ]
  },
  {
   "cell_type": "markdown",
   "metadata": {},
   "source": [
    "Как мы видим на доверительных интервалах разница очевидна"
   ]
  },
  {
   "cell_type": "markdown",
   "metadata": {},
   "source": [
    "Гипотезу о равенстве распределений будем проводить с помощью критерия Манна-Уитни, потому что выборки независимые.\n",
    "\n",
    "Выборки: $X_1 = \\{ X_{11}, ..., X_{1n_1}\\}$ - LIMIT_BAL среди вернувших кредит\n",
    "\n",
    "$X_2 = \\{ X_{21}, ..., X_{2n_1}\\}$ -  LIMIT_BAL среди невернувших кредит.\n",
    "\n",
    "Нулевая гипотеза $H_0$ : $F_{X_1}(x) = F_{X_2}(x)$ \n",
    "\n",
    "Альтернатива $H_1$ : $F_{X_1}(x) != F_{X_2}(x+\\Delta)$\n",
    "\n",
    "Статистика $R(X_1, X_2) = \\sum^{n_1}_{i = 1} rank(X_{1i})$\n",
    "\n",
    "Нулевое распределение табличное"
   ]
  },
  {
   "cell_type": "code",
   "execution_count": 12,
   "metadata": {
    "ExecuteTime": {
     "end_time": "2019-11-18T20:59:51.134515Z",
     "start_time": "2019-11-18T20:59:51.127257Z"
    }
   },
   "outputs": [
    {
     "data": {
      "text/plain": [
       "MannwhitneyuResult(statistic=59257217.5, pvalue=6.127742909111652e-190)"
      ]
     },
     "execution_count": 12,
     "metadata": {},
     "output_type": "execute_result"
    }
   ],
   "source": [
    "stats.mannwhitneyu(X_1, X_2)"
   ]
  },
  {
   "cell_type": "markdown",
   "metadata": {},
   "source": [
    "Следовательно на уровне доверия 0.05 мы можем с большой уверенностью отвергнуть нулевую гипотезу ($p_{val} = 6.1\\cdot 10^{-190}$)."
   ]
  },
  {
   "cell_type": "code",
   "execution_count": 13,
   "metadata": {
    "ExecuteTime": {
     "end_time": "2019-11-18T20:59:51.696085Z",
     "start_time": "2019-11-18T20:59:51.691749Z"
    }
   },
   "outputs": [
    {
     "data": {
      "text/plain": [
       "47990.069654772495"
      ]
     },
     "execution_count": 13,
     "metadata": {},
     "output_type": "execute_result"
    }
   ],
   "source": [
    "X_1.mean() - X_2.mean()"
   ]
  },
  {
   "cell_type": "code",
   "execution_count": 14,
   "metadata": {
    "ExecuteTime": {
     "end_time": "2019-11-18T20:59:51.970114Z",
     "start_time": "2019-11-18T20:59:51.965791Z"
    }
   },
   "outputs": [
    {
     "data": {
      "text/plain": [
       "0.2694561676908547"
      ]
     },
     "execution_count": 14,
     "metadata": {},
     "output_type": "execute_result"
    }
   ],
   "source": [
    "(X_1.mean() - X_2.mean())/X_1.mean()"
   ]
  },
  {
   "cell_type": "markdown",
   "metadata": {},
   "source": [
    "С практической точки зрения, как мы видим, разница в средних достаточно велика(50 тыс), что составляет 27% от абсолютного значения "
   ]
  },
  {
   "cell_type": "markdown",
   "metadata": {},
   "source": [
    "# Задание 2"
   ]
  },
  {
   "cell_type": "markdown",
   "metadata": {},
   "source": [
    "В этой части задания нам нужно оценить разницу в долях, следовательно нам нужны критерии для долей в независимых выборках.\n",
    "\n",
    "Но для начала посмотрим на данные"
   ]
  },
  {
   "cell_type": "code",
   "execution_count": 15,
   "metadata": {
    "ExecuteTime": {
     "end_time": "2019-11-18T20:59:53.027064Z",
     "start_time": "2019-11-18T20:59:53.022890Z"
    }
   },
   "outputs": [],
   "source": [
    "X_1 = data[\"SEX\"].values[data[\"default\"] == 0]\n",
    "X_2 = data[\"SEX\"].values[data[\"default\"] == 1]"
   ]
  },
  {
   "cell_type": "code",
   "execution_count": 16,
   "metadata": {
    "ExecuteTime": {
     "end_time": "2019-11-18T20:59:53.541562Z",
     "start_time": "2019-11-18T20:59:53.314580Z"
    }
   },
   "outputs": [
    {
     "data": {
      "image/png": "[encoded data removed]",
      "text/plain": [
       "<Figure size 720x720 with 1 Axes>"
      ]
     },
     "metadata": {
      "needs_background": "light"
     },
     "output_type": "display_data"
    }
   ],
   "source": [
    "plt.figure(figsize = (10, 10))\n",
    "plt.title(\"Гистограммы распределений одобренных кредитов\")\n",
    "plt.hist(X_1, bins = 25, label = \"кредит вернули\")\n",
    "plt.hist(X_2, bins = 25, label = \"кредит не вернули\")\n",
    "plt.legend()\n",
    "plt.show()"
   ]
  },
  {
   "cell_type": "markdown",
   "metadata": {},
   "source": [
    "Для начала построим доверительные интервали для доли мужского пола в каждой выборке"
   ]
  },
  {
   "cell_type": "code",
   "execution_count": 17,
   "metadata": {
    "ExecuteTime": {
     "end_time": "2019-11-18T20:59:53.802577Z",
     "start_time": "2019-11-18T20:59:53.798334Z"
    }
   },
   "outputs": [],
   "source": [
    "def my_proportion_confint(count, nobs, alpha=0.05):\n",
    "    q_ = count * 1. / nobs\n",
    "    alpha_2 = 0.5 * alpha\n",
    "    std_ = np.sqrt(q_ * (1 - q_) / nobs)\n",
    "    dist = stats.norm.isf(alpha / 2.) * std_\n",
    "    ci_low = q_ - dist\n",
    "    ci_upp = q_ + dist\n",
    "    return ci_low, ci_upp"
   ]
  },
  {
   "cell_type": "code",
   "execution_count": 18,
   "metadata": {
    "ExecuteTime": {
     "end_time": "2019-11-18T20:59:54.046432Z",
     "start_time": "2019-11-18T20:59:54.042428Z"
    }
   },
   "outputs": [],
   "source": [
    "p1_int = my_proportion_confint(X_1[X_1 == 1].shape[0], X_1.shape[0])\n",
    "p2_int = my_proportion_confint(X_2[X_2 == 2].shape[0], X_2.shape[0])"
   ]
  },
  {
   "cell_type": "code",
   "execution_count": 19,
   "metadata": {
    "ExecuteTime": {
     "end_time": "2019-11-18T20:59:54.274038Z",
     "start_time": "2019-11-18T20:59:54.270467Z"
    }
   },
   "outputs": [
    {
     "data": {
      "text/plain": [
       "(0.37960806572767264, 0.3920919856333957)"
      ]
     },
     "execution_count": 19,
     "metadata": {},
     "output_type": "execute_result"
    }
   ],
   "source": [
    "p1_int"
   ]
  },
  {
   "cell_type": "code",
   "execution_count": 20,
   "metadata": {
    "ExecuteTime": {
     "end_time": "2019-11-18T20:59:54.510176Z",
     "start_time": "2019-11-18T20:59:54.506701Z"
    }
   },
   "outputs": [
    {
     "data": {
      "text/plain": [
       "(0.5551371736238107, 0.5789797642905956)"
      ]
     },
     "execution_count": 20,
     "metadata": {},
     "output_type": "execute_result"
    }
   ],
   "source": [
    "p2_int"
   ]
  },
  {
   "cell_type": "code",
   "execution_count": 21,
   "metadata": {
    "ExecuteTime": {
     "end_time": "2019-11-18T20:59:54.901706Z",
     "start_time": "2019-11-18T20:59:54.755097Z"
    }
   },
   "outputs": [
    {
     "data": {
      "image/png": "[encoded data removed]",
      "text/plain": [
       "<Figure size 720x504 with 1 Axes>"
      ]
     },
     "metadata": {
      "needs_background": "light"
     },
     "output_type": "display_data"
    }
   ],
   "source": [
    "plt.figure(figsize=(10,7))\n",
    "plt.plot(np.linspace(p1_int[0], p1_int[1], 100), np.ones(100), label = \"Кредит вернули\")\n",
    "plt.plot(np.linspace(p2_int[0], p2_int[1], 100), np.ones(100)/2, label = \"Кредит не вернули\")\n",
    "plt.xlim(left = 0.35, right = 0.6)\n",
    "plt.ylim(bottom = 0, top = 1.5)\n",
    "plt.legend()\n",
    "plt.show()"
   ]
  },
  {
   "cell_type": "markdown",
   "metadata": {},
   "source": [
    "Как мы видим доли не одинаковые, среди не вернувших кредит поровну и мужчин и женщин, а среди вернувших кредит больше жинщин."
   ]
  },
  {
   "cell_type": "markdown",
   "metadata": {},
   "source": [
    "Давайте теперь посчитаем статистическую значимость \n",
    "\n",
    "Воспользуемся z - критерием для долей\n",
    "\n",
    "\n",
    "\n",
    "Выборки: $X_1 = \\{ X_{11}, ..., X_{1n_1}\\}$ - SEX среди вернувших кредит\n",
    "\n",
    "$X_2 = \\{ X_{21}, ..., X_{2n_1}\\}$ -  SEX среди невернувших кредит.\n",
    "\n",
    "Нулевая гипотеза $H_0$ : $p_1 = p_2$ \n",
    "\n",
    "Альтернатива $H_1$ : $p_1 != p_2$\n",
    "\n",
    "Статистика $Z(X_1, X_2) = \\frac{p_1 - p_2}{\\sqrt{P(1-P)(\\frac{1}{n_1}+\\frac{1}{n_2})}}$\n",
    "\n",
    "Нулевое распределение: $Z(X_1, X_2) =N(0, 1)$"
   ]
  },
  {
   "cell_type": "code",
   "execution_count": 22,
   "metadata": {
    "ExecuteTime": {
     "end_time": "2019-11-18T20:59:55.452603Z",
     "start_time": "2019-11-18T20:59:55.447438Z"
    }
   },
   "outputs": [],
   "source": [
    "def count_s(p1, n1, p2, n2):\n",
    "    P = (p1*n1+p2*n2)/(n1+n2)\n",
    "    return np.sqrt(P*(1-P)*(1/n1+1/n2))\n",
    "\n",
    "def count_p(p1, n1, p2, n2):\n",
    "    S = count_s(p1, n1, p2, n2)\n",
    "    t = (p1 - p2)/S\n",
    "    return 2*(1-stats.norm.cdf(abs(t)))"
   ]
  },
  {
   "cell_type": "code",
   "execution_count": 23,
   "metadata": {
    "ExecuteTime": {
     "end_time": "2019-11-18T20:59:55.638443Z",
     "start_time": "2019-11-18T20:59:55.633510Z"
    }
   },
   "outputs": [
    {
     "name": "stdout",
     "output_type": "stream",
     "text": [
      "0.0\n"
     ]
    }
   ],
   "source": [
    "p1 = X_1[X_1 == 1].shape[0] / X_1.shape[0]\n",
    "n1 = X_1.shape[0]\n",
    "p2 = X_2[X_2 == 2].shape[0] / X_2.shape[0]\n",
    "n2 = X_2.shape[0]\n",
    "print(count_p(p1, n1, p2, n2))"
   ]
  },
  {
   "cell_type": "markdown",
   "metadata": {},
   "source": [
    "Получилось $p_{val} = 0$. Как я понял это связано с тем, что $p_{val}$ меньше машинной точности))\n",
    "\n",
    "Построим доверительный интервал для разности"
   ]
  },
  {
   "cell_type": "code",
   "execution_count": 35,
   "metadata": {
    "ExecuteTime": {
     "end_time": "2019-11-18T21:02:36.644902Z",
     "start_time": "2019-11-18T21:02:36.639817Z"
    }
   },
   "outputs": [],
   "source": [
    "def proportions_diff_confint_ind(p1, n1, p2, n2, alpha = 0.05):    \n",
    "    z = stats.norm.ppf(1 - alpha / 2.)\n",
    "\n",
    "    \n",
    "    left_boundary = (p1 - p2) - z * np.sqrt(p1 * (1 - p1)/ n1 + p2 * (1 - p2)/ n2)\n",
    "    right_boundary = (p1 - p2) + z * np.sqrt(p1 * (1 - p1)/ n1 + p2 * (1 - p2)/ n2)\n",
    "    \n",
    "    return (left_boundary, right_boundary)"
   ]
  },
  {
   "cell_type": "code",
   "execution_count": 36,
   "metadata": {
    "ExecuteTime": {
     "end_time": "2019-11-18T21:02:37.013737Z",
     "start_time": "2019-11-18T21:02:37.009477Z"
    }
   },
   "outputs": [
    {
     "data": {
      "text/plain": [
       "(-0.194665015889303, -0.16775187066403494)"
      ]
     },
     "execution_count": 36,
     "metadata": {},
     "output_type": "execute_result"
    }
   ],
   "source": [
    "proportions_diff_confint_ind(p1, n1, p2, n2)"
   ]
  },
  {
   "cell_type": "markdown",
   "metadata": {},
   "source": [
    "И доверительный интервал еще раз нас убеждает в том, что доли разные."
   ]
  },
  {
   "cell_type": "markdown",
   "metadata": {},
   "source": [
    "# Часть 3 "
   ]
  },
  {
   "cell_type": "code",
   "execution_count": 41,
   "metadata": {
    "ExecuteTime": {
     "end_time": "2019-11-18T21:13:55.528608Z",
     "start_time": "2019-11-18T21:13:55.513994Z"
    }
   },
   "outputs": [
    {
     "data": {
      "text/html": [
       "<div>\n",
       "<style scoped>\n",
       "    .dataframe tbody tr th:only-of-type {\n",
       "        vertical-align: middle;\n",
       "    }\n",
       "\n",
       "    .dataframe tbody tr th {\n",
       "        vertical-align: top;\n",
       "    }\n",
       "\n",
       "    .dataframe thead th {\n",
       "        text-align: right;\n",
       "    }\n",
       "</style>\n",
       "<table border=\"1\" class=\"dataframe\">\n",
       "  <thead>\n",
       "    <tr style=\"text-align: right;\">\n",
       "      <th>default</th>\n",
       "      <th>0</th>\n",
       "      <th>1</th>\n",
       "      <th>count</th>\n",
       "    </tr>\n",
       "    <tr>\n",
       "      <th>EDUCATION</th>\n",
       "      <th></th>\n",
       "      <th></th>\n",
       "      <th></th>\n",
       "    </tr>\n",
       "  </thead>\n",
       "  <tbody>\n",
       "    <tr>\n",
       "      <td>0</td>\n",
       "      <td>1.000000</td>\n",
       "      <td>0.000000</td>\n",
       "      <td>14</td>\n",
       "    </tr>\n",
       "    <tr>\n",
       "      <td>1</td>\n",
       "      <td>0.807652</td>\n",
       "      <td>0.192348</td>\n",
       "      <td>10585</td>\n",
       "    </tr>\n",
       "    <tr>\n",
       "      <td>2</td>\n",
       "      <td>0.762651</td>\n",
       "      <td>0.237349</td>\n",
       "      <td>14030</td>\n",
       "    </tr>\n",
       "    <tr>\n",
       "      <td>3</td>\n",
       "      <td>0.748424</td>\n",
       "      <td>0.251576</td>\n",
       "      <td>4917</td>\n",
       "    </tr>\n",
       "    <tr>\n",
       "      <td>4</td>\n",
       "      <td>0.943089</td>\n",
       "      <td>0.056911</td>\n",
       "      <td>123</td>\n",
       "    </tr>\n",
       "    <tr>\n",
       "      <td>5</td>\n",
       "      <td>0.935714</td>\n",
       "      <td>0.064286</td>\n",
       "      <td>280</td>\n",
       "    </tr>\n",
       "    <tr>\n",
       "      <td>6</td>\n",
       "      <td>0.843137</td>\n",
       "      <td>0.156863</td>\n",
       "      <td>51</td>\n",
       "    </tr>\n",
       "  </tbody>\n",
       "</table>\n",
       "</div>"
      ],
      "text/plain": [
       "default           0         1  count\n",
       "EDUCATION                           \n",
       "0          1.000000  0.000000     14\n",
       "1          0.807652  0.192348  10585\n",
       "2          0.762651  0.237349  14030\n",
       "3          0.748424  0.251576   4917\n",
       "4          0.943089  0.056911    123\n",
       "5          0.935714  0.064286    280\n",
       "6          0.843137  0.156863     51"
      ]
     },
     "execution_count": 41,
     "metadata": {},
     "output_type": "execute_result"
    }
   ],
   "source": [
    "table = data[[\"EDUCATION\", \"default\"]].groupby([\"EDUCATION\", \"default\"]).size().unstack(fill_value=0)\n",
    "\n",
    "table_norma = table.copy()\n",
    "\n",
    "count = table_norma.sum(axis=1)\n",
    "table_norma['count'] = count\n",
    "table_norma = table_norma.iloc[:, :-1].div(count, axis=0)\n",
    "\n",
    "table_norma['count'] = count\n",
    "\n",
    "table_norma"
   ]
  },
  {
   "cell_type": "markdown",
   "metadata": {
    "ExecuteTime": {
     "end_time": "2019-11-18T21:25:48.484227Z",
     "start_time": "2019-11-18T21:25:48.478382Z"
    }
   },
   "source": [
    "Рассмотрим критерий Хи - квадрат для проверки гипотезы о том, что есть зависимость между этими двумя признаками "
   ]
  },
  {
   "cell_type": "code",
   "execution_count": 46,
   "metadata": {
    "ExecuteTime": {
     "end_time": "2019-11-18T21:43:08.640436Z",
     "start_time": "2019-11-18T21:43:08.634341Z"
    }
   },
   "outputs": [
    {
     "data": {
      "text/plain": [
       "(163.21655786997073,\n",
       " 1.2332626245415605e-32,\n",
       " 6,\n",
       " array([[1.0903200e+01, 3.0968000e+00],\n",
       "        [8.2435980e+03, 2.3414020e+03],\n",
       "        [1.0926564e+04, 3.1034360e+03],\n",
       "        [3.8293596e+03, 1.0876404e+03],\n",
       "        [9.5792400e+01, 2.7207600e+01],\n",
       "        [2.1806400e+02, 6.1936000e+01],\n",
       "        [3.9718800e+01, 1.1281200e+01]]))"
      ]
     },
     "execution_count": 46,
     "metadata": {},
     "output_type": "execute_result"
    }
   ],
   "source": [
    "chi2_contingency(table.values)"
   ]
  },
  {
   "cell_type": "markdown",
   "metadata": {},
   "source": [
    "То есть мы уверенно ($p_{val} = 1.2 \\cdot10^{-32}$) отклонить нулевую гипотезу в ползу существования зависимости\n",
    "\n",
    "\n",
    "Давайте тогда теперь построим доверительный интервал для доли"
   ]
  },
  {
   "cell_type": "code",
   "execution_count": 61,
   "metadata": {
    "ExecuteTime": {
     "end_time": "2019-11-18T22:15:51.784433Z",
     "start_time": "2019-11-18T22:15:51.781394Z"
    }
   },
   "outputs": [],
   "source": [
    "p_int = my_proportion_confint(table[0].values, count.values)"
   ]
  },
  {
   "cell_type": "code",
   "execution_count": 62,
   "metadata": {
    "ExecuteTime": {
     "end_time": "2019-11-18T22:15:52.611993Z",
     "start_time": "2019-11-18T22:15:52.607939Z"
    }
   },
   "outputs": [
    {
     "data": {
      "text/plain": [
       "(array([1.        , 0.80014375, 0.75561141, 0.73629535, 0.90214749,\n",
       "        0.90698678, 0.74332772]),\n",
       " array([1.        , 0.81516093, 0.76969151, 0.76055232, 0.98403137,\n",
       "        0.96444179, 0.94294679]))"
      ]
     },
     "execution_count": 62,
     "metadata": {},
     "output_type": "execute_result"
    }
   ],
   "source": [
    "p_int"
   ]
  },
  {
   "cell_type": "code",
   "execution_count": 65,
   "metadata": {
    "ExecuteTime": {
     "end_time": "2019-11-18T22:20:14.872277Z",
     "start_time": "2019-11-18T22:20:14.868988Z"
    }
   },
   "outputs": [],
   "source": [
    "table_norma[\"left\"] = p_int[0]\n",
    "table_norma[\"right\"] = p_int[1]"
   ]
  },
  {
   "cell_type": "code",
   "execution_count": 66,
   "metadata": {
    "ExecuteTime": {
     "end_time": "2019-11-18T22:20:21.882356Z",
     "start_time": "2019-11-18T22:20:21.873945Z"
    }
   },
   "outputs": [
    {
     "data": {
      "text/html": [
       "<div>\n",
       "<style scoped>\n",
       "    .dataframe tbody tr th:only-of-type {\n",
       "        vertical-align: middle;\n",
       "    }\n",
       "\n",
       "    .dataframe tbody tr th {\n",
       "        vertical-align: top;\n",
       "    }\n",
       "\n",
       "    .dataframe thead th {\n",
       "        text-align: right;\n",
       "    }\n",
       "</style>\n",
       "<table border=\"1\" class=\"dataframe\">\n",
       "  <thead>\n",
       "    <tr style=\"text-align: right;\">\n",
       "      <th>default</th>\n",
       "      <th>0</th>\n",
       "      <th>1</th>\n",
       "      <th>count</th>\n",
       "      <th>left</th>\n",
       "      <th>right</th>\n",
       "    </tr>\n",
       "    <tr>\n",
       "      <th>EDUCATION</th>\n",
       "      <th></th>\n",
       "      <th></th>\n",
       "      <th></th>\n",
       "      <th></th>\n",
       "      <th></th>\n",
       "    </tr>\n",
       "  </thead>\n",
       "  <tbody>\n",
       "    <tr>\n",
       "      <td>0</td>\n",
       "      <td>1.000000</td>\n",
       "      <td>0.000000</td>\n",
       "      <td>14</td>\n",
       "      <td>1.000000</td>\n",
       "      <td>1.000000</td>\n",
       "    </tr>\n",
       "    <tr>\n",
       "      <td>1</td>\n",
       "      <td>0.807652</td>\n",
       "      <td>0.192348</td>\n",
       "      <td>10585</td>\n",
       "      <td>0.800144</td>\n",
       "      <td>0.815161</td>\n",
       "    </tr>\n",
       "    <tr>\n",
       "      <td>2</td>\n",
       "      <td>0.762651</td>\n",
       "      <td>0.237349</td>\n",
       "      <td>14030</td>\n",
       "      <td>0.755611</td>\n",
       "      <td>0.769692</td>\n",
       "    </tr>\n",
       "    <tr>\n",
       "      <td>3</td>\n",
       "      <td>0.748424</td>\n",
       "      <td>0.251576</td>\n",
       "      <td>4917</td>\n",
       "      <td>0.736295</td>\n",
       "      <td>0.760552</td>\n",
       "    </tr>\n",
       "    <tr>\n",
       "      <td>4</td>\n",
       "      <td>0.943089</td>\n",
       "      <td>0.056911</td>\n",
       "      <td>123</td>\n",
       "      <td>0.902147</td>\n",
       "      <td>0.984031</td>\n",
       "    </tr>\n",
       "    <tr>\n",
       "      <td>5</td>\n",
       "      <td>0.935714</td>\n",
       "      <td>0.064286</td>\n",
       "      <td>280</td>\n",
       "      <td>0.906987</td>\n",
       "      <td>0.964442</td>\n",
       "    </tr>\n",
       "    <tr>\n",
       "      <td>6</td>\n",
       "      <td>0.843137</td>\n",
       "      <td>0.156863</td>\n",
       "      <td>51</td>\n",
       "      <td>0.743328</td>\n",
       "      <td>0.942947</td>\n",
       "    </tr>\n",
       "  </tbody>\n",
       "</table>\n",
       "</div>"
      ],
      "text/plain": [
       "default           0         1  count      left     right\n",
       "EDUCATION                                               \n",
       "0          1.000000  0.000000     14  1.000000  1.000000\n",
       "1          0.807652  0.192348  10585  0.800144  0.815161\n",
       "2          0.762651  0.237349  14030  0.755611  0.769692\n",
       "3          0.748424  0.251576   4917  0.736295  0.760552\n",
       "4          0.943089  0.056911    123  0.902147  0.984031\n",
       "5          0.935714  0.064286    280  0.906987  0.964442\n",
       "6          0.843137  0.156863     51  0.743328  0.942947"
      ]
     },
     "execution_count": 66,
     "metadata": {},
     "output_type": "execute_result"
    }
   ],
   "source": [
    "table_norma"
   ]
  },
  {
   "cell_type": "markdown",
   "metadata": {},
   "source": [
    "Вывод: Как мы видим люди с образованием Доктор (0), возвращают кредит с наибольшей вероятностью. Реже всего возвращают кредиты выпускники школ и бакалавры"
   ]
  },
  {
   "cell_type": "markdown",
   "metadata": {},
   "source": [
    "# Часть 4"
   ]
  },
  {
   "cell_type": "code",
   "execution_count": 67,
   "metadata": {
    "ExecuteTime": {
     "end_time": "2019-11-18T22:24:04.795672Z",
     "start_time": "2019-11-18T22:24:04.780759Z"
    }
   },
   "outputs": [
    {
     "data": {
      "text/html": [
       "<div>\n",
       "<style scoped>\n",
       "    .dataframe tbody tr th:only-of-type {\n",
       "        vertical-align: middle;\n",
       "    }\n",
       "\n",
       "    .dataframe tbody tr th {\n",
       "        vertical-align: top;\n",
       "    }\n",
       "\n",
       "    .dataframe thead th {\n",
       "        text-align: right;\n",
       "    }\n",
       "</style>\n",
       "<table border=\"1\" class=\"dataframe\">\n",
       "  <thead>\n",
       "    <tr style=\"text-align: right;\">\n",
       "      <th>default</th>\n",
       "      <th>0</th>\n",
       "      <th>1</th>\n",
       "      <th>count</th>\n",
       "    </tr>\n",
       "    <tr>\n",
       "      <th>MARRIAGE</th>\n",
       "      <th></th>\n",
       "      <th></th>\n",
       "      <th></th>\n",
       "    </tr>\n",
       "  </thead>\n",
       "  <tbody>\n",
       "    <tr>\n",
       "      <td>0</td>\n",
       "      <td>0.907407</td>\n",
       "      <td>0.092593</td>\n",
       "      <td>54</td>\n",
       "    </tr>\n",
       "    <tr>\n",
       "      <td>1</td>\n",
       "      <td>0.765283</td>\n",
       "      <td>0.234717</td>\n",
       "      <td>13659</td>\n",
       "    </tr>\n",
       "    <tr>\n",
       "      <td>2</td>\n",
       "      <td>0.790717</td>\n",
       "      <td>0.209283</td>\n",
       "      <td>15964</td>\n",
       "    </tr>\n",
       "    <tr>\n",
       "      <td>3</td>\n",
       "      <td>0.739938</td>\n",
       "      <td>0.260062</td>\n",
       "      <td>323</td>\n",
       "    </tr>\n",
       "  </tbody>\n",
       "</table>\n",
       "</div>"
      ],
      "text/plain": [
       "default          0         1  count\n",
       "MARRIAGE                           \n",
       "0         0.907407  0.092593     54\n",
       "1         0.765283  0.234717  13659\n",
       "2         0.790717  0.209283  15964\n",
       "3         0.739938  0.260062    323"
      ]
     },
     "execution_count": 67,
     "metadata": {},
     "output_type": "execute_result"
    }
   ],
   "source": [
    "table = data[[\"MARRIAGE\", \"default\"]].groupby([\"MARRIAGE\", \"default\"]).size().unstack(fill_value=0)\n",
    "\n",
    "table_norma = table.copy()\n",
    "\n",
    "count = table_norma.sum(axis=1)\n",
    "table_norma['count'] = count\n",
    "table_norma = table_norma.iloc[:, :-1].div(count, axis=0)\n",
    "\n",
    "table_norma['count'] = count\n",
    "\n",
    "table_norma"
   ]
  },
  {
   "cell_type": "markdown",
   "metadata": {},
   "source": [
    "Для оценки влияния посчитаем коэффициент V Крамера"
   ]
  },
  {
   "cell_type": "code",
   "execution_count": 68,
   "metadata": {
    "ExecuteTime": {
     "end_time": "2019-11-18T22:27:22.644380Z",
     "start_time": "2019-11-18T22:27:22.639901Z"
    }
   },
   "outputs": [
    {
     "data": {
      "text/plain": [
       "(35.66239583433609,\n",
       " 8.825862457577375e-08,\n",
       " 3,\n",
       " array([[4.20552000e+01, 1.19448000e+01],\n",
       "        [1.06376292e+04, 3.02137080e+03],\n",
       "        [1.24327632e+04, 3.53123680e+03],\n",
       "        [2.51552400e+02, 7.14476000e+01]]))"
      ]
     },
     "execution_count": 68,
     "metadata": {},
     "output_type": "execute_result"
    }
   ],
   "source": [
    "chi2_contingency(table.values)"
   ]
  },
  {
   "cell_type": "code",
   "execution_count": 69,
   "metadata": {
    "ExecuteTime": {
     "end_time": "2019-11-18T22:27:55.000042Z",
     "start_time": "2019-11-18T22:27:54.996066Z"
    }
   },
   "outputs": [
    {
     "data": {
      "text/plain": [
       "0.024379771613073028"
      ]
     },
     "execution_count": 69,
     "metadata": {},
     "output_type": "execute_result"
    }
   ],
   "source": [
    "np.sqrt(35.66239583433609/(2*table.values.sum()))"
   ]
  },
  {
   "cell_type": "markdown",
   "metadata": {
    "ExecuteTime": {
     "end_time": "2019-11-18T22:28:09.287668Z",
     "start_time": "2019-11-18T22:28:09.283901Z"
    }
   },
   "source": [
    "Как мы видим семейное положение влияет на default"
   ]
  },
  {
   "cell_type": "code",
   "execution_count": 81,
   "metadata": {
    "ExecuteTime": {
     "end_time": "2019-11-18T22:34:31.142691Z",
     "start_time": "2019-11-18T22:34:30.911480Z"
    }
   },
   "outputs": [
    {
     "name": "stderr",
     "output_type": "stream",
     "text": [
      "/Users/maxim/anaconda3/lib/python3.7/site-packages/ipykernel_launcher.py:3: MatplotlibDeprecationWarning: \n",
      "The 'normed' kwarg was deprecated in Matplotlib 2.1 and will be removed in 3.1. Use 'density' instead.\n",
      "  This is separate from the ipykernel package so we can avoid doing imports until\n",
      "/Users/maxim/anaconda3/lib/python3.7/site-packages/ipykernel_launcher.py:4: MatplotlibDeprecationWarning: \n",
      "The 'normed' kwarg was deprecated in Matplotlib 2.1 and will be removed in 3.1. Use 'density' instead.\n",
      "  after removing the cwd from sys.path.\n"
     ]
    },
    {
     "data": {
      "image/png": "[encoded data removed]",
      "text/plain": [
       "<Figure size 1440x720 with 1 Axes>"
      ]
     },
     "metadata": {
      "needs_background": "light"
     },
     "output_type": "display_data"
    }
   ],
   "source": [
    "\n",
    "plt.figure(figsize = (20, 10))\n",
    "plt.title(\"Гистограммы распределений одобренных кредитов\")\n",
    "plt.hist(data[\"MARRIAGE\"][data[\"default\"] == 0], normed = True, alpha = 0.3, label = \"кредит вернули\")\n",
    "plt.hist(data[\"MARRIAGE\"][data[\"default\"] == 1], normed = True, alpha = 0.3, label = \"кредит не вернули\")\n",
    "plt.legend()\n",
    "plt.show()"
   ]
  },
  {
   "cell_type": "markdown",
   "metadata": {},
   "source": [
    "# Часть 5"
   ]
  },
  {
   "cell_type": "code",
   "execution_count": 144,
   "metadata": {
    "ExecuteTime": {
     "end_time": "2019-11-18T23:16:02.885595Z",
     "start_time": "2019-11-18T23:16:02.881471Z"
    }
   },
   "outputs": [],
   "source": [
    "X_1 = data[\"AGE\"].values[data[\"default\"] == 0]\n",
    "X_2 = data[\"AGE\"].values[data[\"default\"] == 1]"
   ]
  },
  {
   "cell_type": "code",
   "execution_count": 145,
   "metadata": {
    "ExecuteTime": {
     "end_time": "2019-11-18T23:16:03.573915Z",
     "start_time": "2019-11-18T23:16:03.305339Z"
    }
   },
   "outputs": [
    {
     "name": "stderr",
     "output_type": "stream",
     "text": [
      "/Users/maxim/anaconda3/lib/python3.7/site-packages/ipykernel_launcher.py:3: MatplotlibDeprecationWarning: \n",
      "The 'normed' kwarg was deprecated in Matplotlib 2.1 and will be removed in 3.1. Use 'density' instead.\n",
      "  This is separate from the ipykernel package so we can avoid doing imports until\n",
      "/Users/maxim/anaconda3/lib/python3.7/site-packages/ipykernel_launcher.py:4: MatplotlibDeprecationWarning: \n",
      "The 'normed' kwarg was deprecated in Matplotlib 2.1 and will be removed in 3.1. Use 'density' instead.\n",
      "  after removing the cwd from sys.path.\n"
     ]
    },
    {
     "data": {
      "image/png": "[encoded data removed]",
      "text/plain": [
       "<Figure size 1440x720 with 1 Axes>"
      ]
     },
     "metadata": {
      "needs_background": "light"
     },
     "output_type": "display_data"
    }
   ],
   "source": [
    "plt.figure(figsize = (20, 10))\n",
    "plt.title(\"Гистограммы распределений одобренных кредитов\")\n",
    "plt.hist(X_1, bins = 25, label = \"кредит вернули\", normed = True, alpha = 0.3)\n",
    "plt.hist(X_2, bins = 25, label = \"кредит не вернули\", normed = True, alpha = 0.3)\n",
    "plt.legend()\n",
    "plt.show()"
   ]
  },
  {
   "cell_type": "code",
   "execution_count": 146,
   "metadata": {
    "ExecuteTime": {
     "end_time": "2019-11-18T23:16:04.627142Z",
     "start_time": "2019-11-18T23:16:03.851578Z"
    }
   },
   "outputs": [],
   "source": [
    "sample1 = np.median(get_bootstrap_samples(X_1, 1000), axis = 1)\n",
    "sample2 = np.median(get_bootstrap_samples(X_2, 1000), axis = 1)"
   ]
  },
  {
   "cell_type": "code",
   "execution_count": 147,
   "metadata": {
    "ExecuteTime": {
     "end_time": "2019-11-18T23:16:21.484158Z",
     "start_time": "2019-11-18T23:16:21.480977Z"
    }
   },
   "outputs": [],
   "source": [
    "X_1per = stat_intervals(sample1, 0.05)"
   ]
  },
  {
   "cell_type": "code",
   "execution_count": 148,
   "metadata": {
    "ExecuteTime": {
     "end_time": "2019-11-18T23:16:21.884923Z",
     "start_time": "2019-11-18T23:16:21.882405Z"
    }
   },
   "outputs": [],
   "source": [
    "X_2per = stat_intervals(sample2, 0.05)"
   ]
  },
  {
   "cell_type": "code",
   "execution_count": 150,
   "metadata": {
    "ExecuteTime": {
     "end_time": "2019-11-18T23:16:35.530159Z",
     "start_time": "2019-11-18T23:16:35.389459Z"
    },
    "scrolled": false
   },
   "outputs": [
    {
     "data": {
      "image/png": "[encoded data removed]",
      "text/plain": [
       "<Figure size 720x504 with 1 Axes>"
      ]
     },
     "metadata": {
      "needs_background": "light"
     },
     "output_type": "display_data"
    }
   ],
   "source": [
    "plt.figure(figsize=(10,7))\n",
    "plt.plot(np.linspace(X_1per[0], X_1per[1], 100), np.ones(100),\"p\", label = \"Кредит вернули\")\n",
    "plt.plot(np.linspace(X_2per[0], X_2per[1], 100), np.ones(100)/2, label = \"Кредит не вернули\")\n",
    "plt.ylim(bottom = 0, top = 1.5)\n",
    "plt.legend()\n",
    "plt.show()"
   ]
  },
  {
   "cell_type": "markdown",
   "metadata": {},
   "source": [
    "Как мы видим из персентилей нелзя ничего однозначного сказать\n",
    "\n",
    "Давайте построим доверительный интервал с помощью распределения стьюдента для средних"
   ]
  },
  {
   "cell_type": "code",
   "execution_count": 94,
   "metadata": {
    "ExecuteTime": {
     "end_time": "2019-11-18T22:45:51.355148Z",
     "start_time": "2019-11-18T22:45:51.349820Z"
    }
   },
   "outputs": [],
   "source": [
    "X_1t = _tconfint_generic(X_1.mean(), X_1.std(ddof = 1)/np.sqrt(len(X_1)),\n",
    "                    len(X_1) - 1,\n",
    "                       0.05, 'two-sided')\n",
    "X_2t = _tconfint_generic(X_2.mean(), X_2.std(ddof = 1)/np.sqrt(len(X_2)),\n",
    "                    len(X_2) - 1,\n",
    "                       0.05, 'two-sided')"
   ]
  },
  {
   "cell_type": "code",
   "execution_count": 95,
   "metadata": {
    "ExecuteTime": {
     "end_time": "2019-11-18T22:45:52.388013Z",
     "start_time": "2019-11-18T22:45:52.241653Z"
    },
    "scrolled": false
   },
   "outputs": [
    {
     "data": {
      "image/png": "[encoded data removed]",
      "text/plain": [
       "<Figure size 720x504 with 1 Axes>"
      ]
     },
     "metadata": {
      "needs_background": "light"
     },
     "output_type": "display_data"
    }
   ],
   "source": [
    "plt.figure(figsize=(10,7))\n",
    "plt.plot(np.linspace(X_1t[0], X_1t[1], 100), np.ones(100), label = \"Кредит вернули\")\n",
    "plt.plot(np.linspace(X_2t[0], X_2t[1], 100), np.ones(100)/2, label = \"Кредит не вернули\")\n",
    "\n",
    "plt.ylim(bottom = 0, top = 1.5)\n",
    "plt.legend()\n",
    "plt.show()"
   ]
  },
  {
   "cell_type": "markdown",
   "metadata": {},
   "source": [
    "Как мы видим на доверительных интервалах разница есть, но доверительные интервалы пересекаются"
   ]
  },
  {
   "cell_type": "markdown",
   "metadata": {},
   "source": [
    "Гипотезу о равенстве распределений будем проводить с помощью критерия Манна-Уитни, потому что выборки независимые.\n",
    "\n",
    "Выборки: $X_1 = \\{ X_{11}, ..., X_{1n_1}\\}$ - LIMIT_BAL среди вернувших кредит\n",
    "\n",
    "$X_2 = \\{ X_{21}, ..., X_{2n_1}\\}$ -  LIMIT_BAL среди невернувших кредит.\n",
    "\n",
    "Нулевая гипотеза $H_0$ : $F_{X_1}(x) = F_{X_2}(x)$ \n",
    "\n",
    "Альтернатива $H_1$ : $F_{X_1}(x) != F_{X_2}(x+\\Delta)$\n",
    "\n",
    "Статистика $R(X_1, X_2) = \\sum^{n_1}_{i = 1} rank(X_{1i})$\n",
    "\n",
    "Нулевое распределение табличное"
   ]
  },
  {
   "cell_type": "code",
   "execution_count": 96,
   "metadata": {
    "ExecuteTime": {
     "end_time": "2019-11-18T22:46:23.695700Z",
     "start_time": "2019-11-18T22:46:23.686981Z"
    }
   },
   "outputs": [
    {
     "data": {
      "text/plain": [
       "MannwhitneyuResult(statistic=76966879.5, pvalue=0.1862517717449308)"
      ]
     },
     "execution_count": 96,
     "metadata": {},
     "output_type": "execute_result"
    }
   ],
   "source": [
    "stats.mannwhitneyu(X_1, X_2)"
   ]
  },
  {
   "cell_type": "markdown",
   "metadata": {},
   "source": [
    "Следовательно на уровне доверия 0.05 мы не можем отвергнуть нулевую гипотезу ($p_{val} = 0.186$)."
   ]
  },
  {
   "cell_type": "code",
   "execution_count": 97,
   "metadata": {
    "ExecuteTime": {
     "end_time": "2019-11-18T22:46:25.738011Z",
     "start_time": "2019-11-18T22:46:25.734092Z"
    }
   },
   "outputs": [
    {
     "data": {
      "text/plain": [
       "-0.308472517494188"
      ]
     },
     "execution_count": 97,
     "metadata": {},
     "output_type": "execute_result"
    }
   ],
   "source": [
    "X_1.mean() - X_2.mean()"
   ]
  },
  {
   "cell_type": "code",
   "execution_count": 98,
   "metadata": {
    "ExecuteTime": {
     "end_time": "2019-11-18T22:46:26.241211Z",
     "start_time": "2019-11-18T22:46:26.237360Z"
    }
   },
   "outputs": [
    {
     "data": {
      "text/plain": [
       "-0.008709664900360257"
      ]
     },
     "execution_count": 98,
     "metadata": {},
     "output_type": "execute_result"
    }
   ],
   "source": [
    "(X_1.mean() - X_2.mean())/X_1.mean()"
   ]
  },
  {
   "cell_type": "markdown",
   "metadata": {},
   "source": [
    "С практической точки зрения, как мы видим, разница в средних достаточно мала (4 месяца), И мы не можем отвергнуть гипотезу о равенстве распределений с критерием 0.05"
   ]
  },
  {
   "cell_type": "code",
   "execution_count": null,
   "metadata": {},
   "outputs": [],
   "source": []
  }
 ],
 "metadata": {
  "kernelspec": {
   "display_name": "Python 3",
   "language": "python",
   "name": "python3"
  },
  "language_info": {
   "codemirror_mode": {
    "name": "ipython",
    "version": 3
   },
   "file_extension": ".py",
   "mimetype": "text/x-python",
   "name": "python",
   "nbconvert_exporter": "python",
   "pygments_lexer": "ipython3",
   "version": "3.7.3"
  },
  "varInspector": {
   "cols": {
    "lenName": 16,
    "lenType": 16,
    "lenVar": 40
   },
   "kernels_config": {
    "python": {
     "delete_cmd_postfix": "",
     "delete_cmd_prefix": "del ",
     "library": "var_list.py",
     "varRefreshCmd": "print(var_dic_list())"
    },
    "r": {
     "delete_cmd_postfix": ") ",
     "delete_cmd_prefix": "rm(",
     "library": "var_list.r",
     "varRefreshCmd": "cat(var_dic_list()) "
    }
   },
   "types_to_exclude": [
    "module",
    "function",
    "builtin_function_or_method",
    "instance",
    "_Feature"
   ],
   "window_display": false
  }
 },
 "nbformat": 4,
 "nbformat_minor": 2
}
