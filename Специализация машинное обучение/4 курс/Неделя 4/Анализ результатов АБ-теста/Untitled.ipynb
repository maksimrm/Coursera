{
 "cells": [
  {
   "cell_type": "code",
   "execution_count": 73,
   "metadata": {
    "ExecuteTime": {
     "end_time": "2019-11-19T15:22:30.336374Z",
     "start_time": "2019-11-19T15:22:30.308974Z"
    }
   },
   "outputs": [],
   "source": [
    "import pandas as pd\n",
    "import numpy as np\n",
    "from matplotlib import pyplot as plt\n",
    "from scipy.stats import probplot, mannwhitneyu\n",
    "import statsmodels.stats.multitest as smm"
   ]
  },
  {
   "cell_type": "code",
   "execution_count": 2,
   "metadata": {
    "ExecuteTime": {
     "end_time": "2019-11-19T14:01:33.652404Z",
     "start_time": "2019-11-19T14:01:33.435598Z"
    }
   },
   "outputs": [],
   "source": [
    "data = pd.read_csv(\"ab_browser_test.csv\")"
   ]
  },
  {
   "cell_type": "code",
   "execution_count": 3,
   "metadata": {
    "ExecuteTime": {
     "end_time": "2019-11-19T14:01:35.369474Z",
     "start_time": "2019-11-19T14:01:35.351374Z"
    }
   },
   "outputs": [
    {
     "data": {
      "text/html": [
       "<div>\n",
       "<style scoped>\n",
       "    .dataframe tbody tr th:only-of-type {\n",
       "        vertical-align: middle;\n",
       "    }\n",
       "\n",
       "    .dataframe tbody tr th {\n",
       "        vertical-align: top;\n",
       "    }\n",
       "\n",
       "    .dataframe thead th {\n",
       "        text-align: right;\n",
       "    }\n",
       "</style>\n",
       "<table border=\"1\" class=\"dataframe\">\n",
       "  <thead>\n",
       "    <tr style=\"text-align: right;\">\n",
       "      <th></th>\n",
       "      <th>userID</th>\n",
       "      <th>browser</th>\n",
       "      <th>slot</th>\n",
       "      <th>n_clicks</th>\n",
       "      <th>n_queries</th>\n",
       "      <th>n_nonclk_queries</th>\n",
       "    </tr>\n",
       "  </thead>\n",
       "  <tbody>\n",
       "    <tr>\n",
       "      <td>0</td>\n",
       "      <td>1</td>\n",
       "      <td>Browser #2</td>\n",
       "      <td>exp</td>\n",
       "      <td>23</td>\n",
       "      <td>32</td>\n",
       "      <td>19</td>\n",
       "    </tr>\n",
       "    <tr>\n",
       "      <td>1</td>\n",
       "      <td>3</td>\n",
       "      <td>Browser #4</td>\n",
       "      <td>exp</td>\n",
       "      <td>3</td>\n",
       "      <td>4</td>\n",
       "      <td>2</td>\n",
       "    </tr>\n",
       "    <tr>\n",
       "      <td>2</td>\n",
       "      <td>5</td>\n",
       "      <td>Browser #4</td>\n",
       "      <td>exp</td>\n",
       "      <td>29</td>\n",
       "      <td>35</td>\n",
       "      <td>16</td>\n",
       "    </tr>\n",
       "    <tr>\n",
       "      <td>3</td>\n",
       "      <td>6</td>\n",
       "      <td>Browser #4</td>\n",
       "      <td>control</td>\n",
       "      <td>12</td>\n",
       "      <td>6</td>\n",
       "      <td>0</td>\n",
       "    </tr>\n",
       "    <tr>\n",
       "      <td>4</td>\n",
       "      <td>7</td>\n",
       "      <td>Browser #4</td>\n",
       "      <td>exp</td>\n",
       "      <td>54</td>\n",
       "      <td>68</td>\n",
       "      <td>30</td>\n",
       "    </tr>\n",
       "    <tr>\n",
       "      <td>...</td>\n",
       "      <td>...</td>\n",
       "      <td>...</td>\n",
       "      <td>...</td>\n",
       "      <td>...</td>\n",
       "      <td>...</td>\n",
       "      <td>...</td>\n",
       "    </tr>\n",
       "    <tr>\n",
       "      <td>566129</td>\n",
       "      <td>603133</td>\n",
       "      <td>Browser #14</td>\n",
       "      <td>control</td>\n",
       "      <td>1</td>\n",
       "      <td>2</td>\n",
       "      <td>1</td>\n",
       "    </tr>\n",
       "    <tr>\n",
       "      <td>566130</td>\n",
       "      <td>603134</td>\n",
       "      <td>Browser #2</td>\n",
       "      <td>exp</td>\n",
       "      <td>4</td>\n",
       "      <td>2</td>\n",
       "      <td>0</td>\n",
       "    </tr>\n",
       "    <tr>\n",
       "      <td>566131</td>\n",
       "      <td>603135</td>\n",
       "      <td>Browser #4</td>\n",
       "      <td>control</td>\n",
       "      <td>0</td>\n",
       "      <td>1</td>\n",
       "      <td>1</td>\n",
       "    </tr>\n",
       "    <tr>\n",
       "      <td>566132</td>\n",
       "      <td>603136</td>\n",
       "      <td>Browser #4</td>\n",
       "      <td>control</td>\n",
       "      <td>2</td>\n",
       "      <td>3</td>\n",
       "      <td>1</td>\n",
       "    </tr>\n",
       "    <tr>\n",
       "      <td>566133</td>\n",
       "      <td>603137</td>\n",
       "      <td>Browser #2</td>\n",
       "      <td>exp</td>\n",
       "      <td>3</td>\n",
       "      <td>1</td>\n",
       "      <td>0</td>\n",
       "    </tr>\n",
       "  </tbody>\n",
       "</table>\n",
       "<p>566134 rows × 6 columns</p>\n",
       "</div>"
      ],
      "text/plain": [
       "        userID      browser     slot  n_clicks  n_queries  n_nonclk_queries\n",
       "0            1   Browser #2      exp        23         32                19\n",
       "1            3   Browser #4      exp         3          4                 2\n",
       "2            5   Browser #4      exp        29         35                16\n",
       "3            6   Browser #4  control        12          6                 0\n",
       "4            7   Browser #4      exp        54         68                30\n",
       "...        ...          ...      ...       ...        ...               ...\n",
       "566129  603133  Browser #14  control         1          2                 1\n",
       "566130  603134   Browser #2      exp         4          2                 0\n",
       "566131  603135   Browser #4  control         0          1                 1\n",
       "566132  603136   Browser #4  control         2          3                 1\n",
       "566133  603137   Browser #2      exp         3          1                 0\n",
       "\n",
       "[566134 rows x 6 columns]"
      ]
     },
     "execution_count": 3,
     "metadata": {},
     "output_type": "execute_result"
    }
   ],
   "source": [
    "data"
   ]
  },
  {
   "cell_type": "markdown",
   "metadata": {},
   "source": [
    "# Задание 1"
   ]
  },
  {
   "cell_type": "code",
   "execution_count": 5,
   "metadata": {
    "ExecuteTime": {
     "end_time": "2019-11-19T14:13:18.342292Z",
     "start_time": "2019-11-19T14:13:18.224412Z"
    }
   },
   "outputs": [
    {
     "data": {
      "text/plain": [
       "1.6135689824415809"
      ]
     },
     "execution_count": 5,
     "metadata": {},
     "output_type": "execute_result"
    }
   ],
   "source": [
    "(data[data[\"slot\"] == \"exp\"][\"n_clicks\"].sum() - data[data[\"slot\"] == \"control\"][\"n_clicks\"].sum())/ data[data[\"slot\"] == \"control\"][\"n_clicks\"].sum() * 100"
   ]
  },
  {
   "cell_type": "markdown",
   "metadata": {},
   "source": [
    "# Задание 2"
   ]
  },
  {
   "cell_type": "code",
   "execution_count": 8,
   "metadata": {
    "ExecuteTime": {
     "end_time": "2019-11-19T14:15:49.230354Z",
     "start_time": "2019-11-19T14:15:49.156413Z"
    }
   },
   "outputs": [],
   "source": [
    "X_1 = data[data[\"slot\"] == \"exp\"][\"n_clicks\"].values\n",
    "X_2= data[data[\"slot\"] == \"control\"][\"n_clicks\"].values"
   ]
  },
  {
   "cell_type": "code",
   "execution_count": 9,
   "metadata": {
    "ExecuteTime": {
     "end_time": "2019-11-19T14:15:49.819982Z",
     "start_time": "2019-11-19T14:15:49.815482Z"
    }
   },
   "outputs": [],
   "source": [
    "def stat_intervals(stat, alpha):\n",
    "    boundaries = np.percentile(stat, [100 * alpha / 2., 100 * (1 - alpha / 2.)])\n",
    "    return boundaries\n",
    "def get_bootstrap_samples(data, n_samples):\n",
    "    indices = np.random.randint(0, len(data), (n_samples, len(data)))\n",
    "    samples = data[indices]\n",
    "    return samples"
   ]
  },
  {
   "cell_type": "code",
   "execution_count": 18,
   "metadata": {
    "ExecuteTime": {
     "end_time": "2019-11-19T14:21:58.588222Z",
     "start_time": "2019-11-19T14:21:40.358136Z"
    }
   },
   "outputs": [],
   "source": [
    "sample1 = np.median(get_bootstrap_samples(X_1, 1000), axis = 1)\n",
    "sample2 = np.median(get_bootstrap_samples(X_2, 1000), axis = 1)\n",
    "X_1per = stat_intervals(sample1, 0.05)\n",
    "X_2per = stat_intervals(sample2, 0.05)"
   ]
  },
  {
   "cell_type": "code",
   "execution_count": 19,
   "metadata": {
    "ExecuteTime": {
     "end_time": "2019-11-19T14:21:58.635128Z",
     "start_time": "2019-11-19T14:21:58.632605Z"
    }
   },
   "outputs": [
    {
     "name": "stdout",
     "output_type": "stream",
     "text": [
      "[5. 5.]\n"
     ]
    }
   ],
   "source": [
    "print(X_1per)"
   ]
  },
  {
   "cell_type": "code",
   "execution_count": 20,
   "metadata": {
    "ExecuteTime": {
     "end_time": "2019-11-19T14:21:58.684018Z",
     "start_time": "2019-11-19T14:21:58.681279Z"
    }
   },
   "outputs": [
    {
     "name": "stdout",
     "output_type": "stream",
     "text": [
      "[4. 4.]\n"
     ]
    }
   ],
   "source": [
    "print(X_2per)"
   ]
  },
  {
   "cell_type": "code",
   "execution_count": 21,
   "metadata": {
    "ExecuteTime": {
     "end_time": "2019-11-19T14:21:58.734239Z",
     "start_time": "2019-11-19T14:21:58.730860Z"
    }
   },
   "outputs": [
    {
     "data": {
      "text/plain": [
       "array([1., 1.])"
      ]
     },
     "execution_count": 21,
     "metadata": {},
     "output_type": "execute_result"
    }
   ],
   "source": [
    "stat_intervals(sample1 - sample2, 0.05)"
   ]
  },
  {
   "cell_type": "code",
   "execution_count": 22,
   "metadata": {
    "ExecuteTime": {
     "end_time": "2019-11-19T14:22:12.363999Z",
     "start_time": "2019-11-19T14:21:58.777957Z"
    }
   },
   "outputs": [],
   "source": [
    "sample1 = np.mean(get_bootstrap_samples(X_1, 1000), axis = 1)\n",
    "sample2 = np.mean(get_bootstrap_samples(X_2, 1000), axis = 1)\n",
    "X_1per = stat_intervals(sample1, 0.05)\n",
    "X_2per = stat_intervals(sample2, 0.05)"
   ]
  },
  {
   "cell_type": "code",
   "execution_count": 23,
   "metadata": {
    "ExecuteTime": {
     "end_time": "2019-11-19T14:22:12.413432Z",
     "start_time": "2019-11-19T14:22:12.410186Z"
    }
   },
   "outputs": [
    {
     "data": {
      "text/plain": [
       "array([0.20025804, 0.40821159])"
      ]
     },
     "execution_count": 23,
     "metadata": {},
     "output_type": "execute_result"
    }
   ],
   "source": [
    "stat_intervals(sample1 - sample2, 0.05)"
   ]
  },
  {
   "cell_type": "code",
   "execution_count": 24,
   "metadata": {
    "ExecuteTime": {
     "end_time": "2019-11-19T14:22:12.463087Z",
     "start_time": "2019-11-19T14:22:12.460490Z"
    }
   },
   "outputs": [
    {
     "name": "stdout",
     "output_type": "stream",
     "text": [
      "[11.50798299 11.66073265]\n"
     ]
    }
   ],
   "source": [
    "print(X_1per)"
   ]
  },
  {
   "cell_type": "code",
   "execution_count": 25,
   "metadata": {
    "ExecuteTime": {
     "end_time": "2019-11-19T14:22:12.512977Z",
     "start_time": "2019-11-19T14:22:12.510526Z"
    }
   },
   "outputs": [
    {
     "name": "stdout",
     "output_type": "stream",
     "text": [
      "[11.21146021 11.35454633]\n"
     ]
    }
   ],
   "source": [
    "print(X_2per)"
   ]
  },
  {
   "cell_type": "markdown",
   "metadata": {},
   "source": [
    "# Часть 3"
   ]
  },
  {
   "cell_type": "code",
   "execution_count": 30,
   "metadata": {
    "ExecuteTime": {
     "end_time": "2019-11-19T14:27:16.725023Z",
     "start_time": "2019-11-19T14:27:16.160417Z"
    }
   },
   "outputs": [
    {
     "data": {
      "image/png": "[encoded data removed]",
      "text/plain": [
       "<Figure size 1440x1080 with 1 Axes>"
      ]
     },
     "metadata": {
      "needs_background": "light"
     },
     "output_type": "display_data"
    }
   ],
   "source": [
    "plt.figure(figsize=(20,15))\n",
    "plt.hist(data[data[\"slot\"] == \"exp\"][\"n_clicks\"].values, label = \"exp\", bins = 100, alpha = 0.5)\n",
    "plt.hist(data[data[\"slot\"] == \"control\"][\"n_clicks\"].values, label = \"control\", bins = 100, alpha = 0.5)\n",
    "plt.show()"
   ]
  },
  {
   "cell_type": "code",
   "execution_count": 31,
   "metadata": {
    "ExecuteTime": {
     "end_time": "2019-11-19T14:27:43.272623Z",
     "start_time": "2019-11-19T14:27:42.772998Z"
    }
   },
   "outputs": [
    {
     "data": {
      "image/png": "[encoded data removed]",
      "text/plain": [
       "<Figure size 1440x1080 with 1 Axes>"
      ]
     },
     "metadata": {
      "needs_background": "light"
     },
     "output_type": "display_data"
    }
   ],
   "source": [
    "plt.figure(figsize=(20,15))\n",
    "plt.hist(data[data[\"slot\"] == \"exp\"][\"n_queries\"].values, label = \"exp\", bins = 100, alpha = 0.5)\n",
    "plt.hist(data[data[\"slot\"] == \"control\"][\"n_queries\"].values, label = \"control\", bins = 100, alpha = 0.5)\n",
    "plt.show()"
   ]
  },
  {
   "cell_type": "code",
   "execution_count": 32,
   "metadata": {
    "ExecuteTime": {
     "end_time": "2019-11-19T14:28:12.422005Z",
     "start_time": "2019-11-19T14:28:11.920127Z"
    }
   },
   "outputs": [
    {
     "data": {
      "image/png": "[encoded data removed]",
      "text/plain": [
       "<Figure size 1440x1080 with 1 Axes>"
      ]
     },
     "metadata": {
      "needs_background": "light"
     },
     "output_type": "display_data"
    }
   ],
   "source": [
    "plt.figure(figsize=(20,15))\n",
    "plt.hist(data[data[\"slot\"] == \"exp\"][\"n_nonclk_queries\"].values, label = \"exp\", bins = 100, alpha = 0.5)\n",
    "plt.hist(data[data[\"slot\"] == \"control\"][\"n_nonclk_queries\"].values, label = \"control\", bins = 100, alpha = 0.5)\n",
    "plt.show()"
   ]
  },
  {
   "cell_type": "markdown",
   "metadata": {},
   "source": [
    "# Часть 4"
   ]
  },
  {
   "cell_type": "code",
   "execution_count": 46,
   "metadata": {
    "ExecuteTime": {
     "end_time": "2019-11-19T14:58:48.725789Z",
     "start_time": "2019-11-19T14:58:44.212059Z"
    }
   },
   "outputs": [
    {
     "data": {
      "image/png": "[encoded data removed]",
      "text/plain": [
       "<Figure size 432x288 with 1 Axes>"
      ]
     },
     "metadata": {
      "needs_background": "light"
     },
     "output_type": "display_data"
    },
    {
     "data": {
      "image/png": "[encoded data removed]",
      "text/plain": [
       "<Figure size 432x288 with 1 Axes>"
      ]
     },
     "metadata": {
      "needs_background": "light"
     },
     "output_type": "display_data"
    }
   ],
   "source": [
    "np.random.seed(0)\n",
    "n_boot_samples = 500\n",
    "X = data[data[\"slot\"] == \"control\"][\"n_clicks\"].values\n",
    "Xs = get_bootstrap_samples(X, n_boot_samples)\n",
    "means = np.mean(Xs, axis = 1)\n",
    "S = ((Xs - means.reshape(-1, 1))**2).sum(axis = 1)\n",
    "\n",
    "probplot(means, dist=\"norm\", \n",
    "                     sparams=(n_boot_samples-1), plot=plt, rvalue = True )\n",
    "plt.show()\n",
    "\n",
    "probplot(means, dist=\"chi2\", \n",
    "                     sparams=(n_boot_samples-1), plot=plt, rvalue = True)\n",
    "plt.show()"
   ]
  },
  {
   "cell_type": "markdown",
   "metadata": {},
   "source": [
    "# Часть 5"
   ]
  },
  {
   "cell_type": "code",
   "execution_count": 50,
   "metadata": {
    "ExecuteTime": {
     "end_time": "2019-11-19T15:04:25.505948Z",
     "start_time": "2019-11-19T15:04:25.321325Z"
    }
   },
   "outputs": [],
   "source": [
    "a = data.groupby(by = [\"slot\", \"userID\"])[\"n_clicks\"].sum()"
   ]
  },
  {
   "cell_type": "code",
   "execution_count": 57,
   "metadata": {
    "ExecuteTime": {
     "end_time": "2019-11-19T15:06:10.712975Z",
     "start_time": "2019-11-19T15:06:10.705996Z"
    }
   },
   "outputs": [],
   "source": [
    "control = a[(\"control\")].values\n",
    "exp = a[(\"exp\")].values"
   ]
  },
  {
   "cell_type": "code",
   "execution_count": 70,
   "metadata": {
    "ExecuteTime": {
     "end_time": "2019-11-19T15:21:05.502163Z",
     "start_time": "2019-11-19T15:21:05.481749Z"
    }
   },
   "outputs": [
    {
     "data": {
      "text/plain": [
       "MannwhitneyuResult(statistic=3072447765.0, pvalue=0.40760617658454984)"
      ]
     },
     "execution_count": 70,
     "metadata": {},
     "output_type": "execute_result"
    }
   ],
   "source": [
    "mannwhitneyu(control, exp)"
   ]
  },
  {
   "cell_type": "code",
   "execution_count": 59,
   "metadata": {
    "ExecuteTime": {
     "end_time": "2019-11-19T15:08:56.058518Z",
     "start_time": "2019-11-19T15:08:55.614344Z"
    }
   },
   "outputs": [
    {
     "data": {
      "image/png": "[encoded data removed]",
      "text/plain": [
       "<Figure size 1440x1080 with 1 Axes>"
      ]
     },
     "metadata": {
      "needs_background": "light"
     },
     "output_type": "display_data"
    }
   ],
   "source": [
    "plt.figure(figsize=(20,15))\n",
    "plt.hist(exp, label = \"exp\", bins = 100, alpha = 0.5)\n",
    "plt.hist(control, label = \"control\", bins = 100, alpha = 0.5)\n",
    "plt.show()"
   ]
  },
  {
   "cell_type": "markdown",
   "metadata": {},
   "source": [
    "# Часть 6"
   ]
  },
  {
   "cell_type": "code",
   "execution_count": 65,
   "metadata": {
    "ExecuteTime": {
     "end_time": "2019-11-19T15:18:33.114306Z",
     "start_time": "2019-11-19T15:18:33.095131Z"
    }
   },
   "outputs": [],
   "source": [
    "browsers = set(data[\"browser\"].values)"
   ]
  },
  {
   "cell_type": "code",
   "execution_count": 71,
   "metadata": {
    "ExecuteTime": {
     "end_time": "2019-11-19T15:21:09.998506Z",
     "start_time": "2019-11-19T15:21:09.615163Z"
    }
   },
   "outputs": [],
   "source": [
    "pvals = []\n",
    "for br in browsers:\n",
    "    a = data[data[\"browser\"] == br].groupby(by = [\"slot\", \"userID\"])[\"n_clicks\"].sum()\n",
    "    control = a[(\"control\")].values\n",
    "    exp = a[(\"exp\")].values\n",
    "    pvals.append(mannwhitneyu(control, exp).pvalue)"
   ]
  },
  {
   "cell_type": "code",
   "execution_count": 72,
   "metadata": {
    "ExecuteTime": {
     "end_time": "2019-11-19T15:21:15.846946Z",
     "start_time": "2019-11-19T15:21:15.843417Z"
    }
   },
   "outputs": [
    {
     "data": {
      "text/plain": [
       "[0.40760617658454984,\n",
       " 0.03740060143010802,\n",
       " 0.2574055152210032,\n",
       " 0.45366656388735377,\n",
       " 0.0,\n",
       " 0.0272438604197241]"
      ]
     },
     "execution_count": 72,
     "metadata": {},
     "output_type": "execute_result"
    }
   ],
   "source": [
    "pvals"
   ]
  },
  {
   "cell_type": "code",
   "execution_count": 74,
   "metadata": {
    "ExecuteTime": {
     "end_time": "2019-11-19T15:25:17.399587Z",
     "start_time": "2019-11-19T15:25:17.146023Z"
    }
   },
   "outputs": [
    {
     "data": {
      "text/plain": [
       "(array([False, False, False, False,  True, False]),\n",
       " array([0.81521235, 0.14960241, 0.77221655, 0.81521235, 0.        ,\n",
       "        0.1362193 ]),\n",
       " 0.008512444610847103,\n",
       " 0.008333333333333333)"
      ]
     },
     "execution_count": 74,
     "metadata": {},
     "output_type": "execute_result"
    }
   ],
   "source": [
    "smm.multipletests(pvals, alpha = 0.05, method = \"holm\")"
   ]
  },
  {
   "cell_type": "markdown",
   "metadata": {},
   "source": [
    "# Часть 7"
   ]
  },
  {
   "cell_type": "code",
   "execution_count": 76,
   "metadata": {
    "ExecuteTime": {
     "end_time": "2019-11-19T15:32:56.109257Z",
     "start_time": "2019-11-19T15:32:56.047506Z"
    }
   },
   "outputs": [],
   "source": [
    "table = data.groupby(by = [\"slot\", \"browser\"])[[\"n_nonclk_queries\", \"n_queries\"]].sum()"
   ]
  },
  {
   "cell_type": "code",
   "execution_count": 79,
   "metadata": {
    "ExecuteTime": {
     "end_time": "2019-11-19T18:07:12.870673Z",
     "start_time": "2019-11-19T18:07:12.867251Z"
    }
   },
   "outputs": [],
   "source": [
    "table[\"ratio\"] = table[\"n_nonclk_queries\"] / table[\"n_queries\"]* 100"
   ]
  },
  {
   "cell_type": "code",
   "execution_count": 83,
   "metadata": {
    "ExecuteTime": {
     "end_time": "2019-11-19T18:07:50.545826Z",
     "start_time": "2019-11-19T18:07:50.535892Z"
    }
   },
   "outputs": [
    {
     "data": {
      "text/html": [
       "<div>\n",
       "<style scoped>\n",
       "    .dataframe tbody tr th:only-of-type {\n",
       "        vertical-align: middle;\n",
       "    }\n",
       "\n",
       "    .dataframe tbody tr th {\n",
       "        vertical-align: top;\n",
       "    }\n",
       "\n",
       "    .dataframe thead th {\n",
       "        text-align: right;\n",
       "    }\n",
       "</style>\n",
       "<table border=\"1\" class=\"dataframe\">\n",
       "  <thead>\n",
       "    <tr style=\"text-align: right;\">\n",
       "      <th>browser</th>\n",
       "      <th>Browser #14</th>\n",
       "      <th>Browser #17</th>\n",
       "      <th>Browser #2</th>\n",
       "      <th>Browser #20</th>\n",
       "      <th>Browser #22</th>\n",
       "      <th>Browser #4</th>\n",
       "    </tr>\n",
       "    <tr>\n",
       "      <th>slot</th>\n",
       "      <th></th>\n",
       "      <th></th>\n",
       "      <th></th>\n",
       "      <th></th>\n",
       "      <th></th>\n",
       "      <th></th>\n",
       "    </tr>\n",
       "  </thead>\n",
       "  <tbody>\n",
       "    <tr>\n",
       "      <td>control</td>\n",
       "      <td>57.590411</td>\n",
       "      <td>36.299367</td>\n",
       "      <td>45.962747</td>\n",
       "      <td>40.540485</td>\n",
       "      <td>40.593977</td>\n",
       "      <td>46.970930</td>\n",
       "    </tr>\n",
       "    <tr>\n",
       "      <td>exp</td>\n",
       "      <td>43.755617</td>\n",
       "      <td>36.937413</td>\n",
       "      <td>44.982747</td>\n",
       "      <td>38.977376</td>\n",
       "      <td>39.853947</td>\n",
       "      <td>45.142942</td>\n",
       "    </tr>\n",
       "  </tbody>\n",
       "</table>\n",
       "</div>"
      ],
      "text/plain": [
       "browser  Browser #14  Browser #17  Browser #2  Browser #20  Browser #22  \\\n",
       "slot                                                                      \n",
       "control    57.590411    36.299367   45.962747    40.540485    40.593977   \n",
       "exp        43.755617    36.937413   44.982747    38.977376    39.853947   \n",
       "\n",
       "browser  Browser #4  \n",
       "slot                 \n",
       "control   46.970930  \n",
       "exp       45.142942  "
      ]
     },
     "execution_count": 83,
     "metadata": {},
     "output_type": "execute_result"
    }
   ],
   "source": [
    "table[\"ratio\"].unstack()"
   ]
  },
  {
   "cell_type": "code",
   "execution_count": null,
   "metadata": {},
   "outputs": [],
   "source": []
  }
 ],
 "metadata": {
  "kernelspec": {
   "display_name": "Python 3",
   "language": "python",
   "name": "python3"
  },
  "language_info": {
   "codemirror_mode": {
    "name": "ipython",
    "version": 3
   },
   "file_extension": ".py",
   "mimetype": "text/x-python",
   "name": "python",
   "nbconvert_exporter": "python",
   "pygments_lexer": "ipython3",
   "version": "3.7.3"
  },
  "varInspector": {
   "cols": {
    "lenName": 16,
    "lenType": 16,
    "lenVar": 40
   },
   "kernels_config": {
    "python": {
     "delete_cmd_postfix": "",
     "delete_cmd_prefix": "del ",
     "library": "var_list.py",
     "varRefreshCmd": "print(var_dic_list())"
    },
    "r": {
     "delete_cmd_postfix": ") ",
     "delete_cmd_prefix": "rm(",
     "library": "var_list.r",
     "varRefreshCmd": "cat(var_dic_list()) "
    }
   },
   "types_to_exclude": [
    "module",
    "function",
    "builtin_function_or_method",
    "instance",
    "_Feature"
   ],
   "window_display": false
  }
 },
 "nbformat": 4,
 "nbformat_minor": 2
}
