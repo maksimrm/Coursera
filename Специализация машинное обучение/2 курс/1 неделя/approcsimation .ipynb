{
 "cells": [
  {
   "cell_type": "code",
   "execution_count": 268,
   "metadata": {},
   "outputs": [],
   "source": [
    "from matplotlib import pylab as plt"
   ]
  },
  {
   "cell_type": "code",
   "execution_count": 269,
   "metadata": {},
   "outputs": [],
   "source": [
    "import scipy as sp\n",
    "import numpy as np\n",
    "import math\n",
    "from scipy import linalg as lg\n",
    "%matplotlib inline"
   ]
  },
  {
   "cell_type": "code",
   "execution_count": 270,
   "metadata": {},
   "outputs": [],
   "source": [
    "f = lambda x : math.sin(x / 5.) * math.exp(x / 10.) + 5 * math.exp(-x / 2.)"
   ]
  },
  {
   "cell_type": "code",
   "execution_count": 271,
   "metadata": {},
   "outputs": [],
   "source": [
    "def appr(x, n):\n",
    "    A = np.zeros((n,n), dtype = 'float')\n",
    "    b = np.zeros(n,dtype = 'float')\n",
    "    for i in range(n):\n",
    "        for j in range(n):\n",
    "            A[[i],[j]] = x[i]**j\n",
    "        b[i] = f(x[i])\n",
    "    print np.dot(lg.inv(A),b)\n",
    "    return lg.solve(A,b)"
   ]
  },
  {
   "cell_type": "code",
   "execution_count": 272,
   "metadata": {},
   "outputs": [],
   "source": [
    "def inter(w,x):\n",
    "    c = 0\n",
    "    for i in range(len(w)):\n",
    "        c+=w[i]*(x**i)\n",
    "    return c"
   ]
  },
  {
   "cell_type": "code",
   "execution_count": 275,
   "metadata": {},
   "outputs": [
    {
     "name": "stdout",
     "output_type": "stream",
     "text": [
      "[ 4.36264154 -1.29552587  0.19333685 -0.00823565]\n"
     ]
    },
    {
     "data": {
      "image/png": "[encoded data removed]",
      "text/plain": [
       "<Figure size 432x288 with 1 Axes>"
      ]
     },
     "metadata": {
      "needs_background": "light"
     },
     "output_type": "display_data"
    }
   ],
   "source": [
    "x = [1,4,10,15]\n",
    "x1 = np.arange(0,15,0.1)\n",
    "w = np.zeros(n)\n",
    "y = np.zeros(len(x1))\n",
    "y1 = np.zeros(len(x1))\n",
    "w = appr(x,len(x))\n",
    "for i in range(len(x1)):\n",
    "    y[i] = f(x1[i])\n",
    "for i in range(len(x1)):\n",
    "    y1[i] = inter(w,x1[i])\n",
    "plt.plot(x1,y,'blue')\n",
    "\n",
    "plt.plot(x1,y1,'red')\n",
    "plt.show()"
   ]
  },
  {
   "cell_type": "code",
   "execution_count": 51,
   "metadata": {
    "scrolled": true
   },
   "outputs": [
    {
     "name": "stdout",
     "output_type": "stream",
     "text": [
      "5\n",
      "5\n"
     ]
    },
    {
     "data": {
      "text/plain": [
       "1.4239355089496208"
      ]
     },
     "execution_count": 51,
     "metadata": {},
     "output_type": "execute_result"
    }
   ],
   "source": [
    "inter(w, 5)"
   ]
  },
  {
   "cell_type": "code",
   "execution_count": 276,
   "metadata": {},
   "outputs": [
    {
     "name": "stdout",
     "output_type": "stream",
     "text": [
      "[ 4.36264154 -1.29552587  0.19333685 -0.00823565]\n"
     ]
    }
   ],
   "source": [
    "print w"
   ]
  },
  {
   "cell_type": "code",
   "execution_count": 283,
   "metadata": {},
   "outputs": [],
   "source": [
    "s = []\n",
    "for i in range(len(w)):\n",
    "    s.append(str(w[i]))\n",
    "s = s[-1]\n",
    "s = ' '.join(s)\n",
    "f = open('submission-2.txt', 'w')\n",
    "f.write(s)"
   ]
  },
  {
   "cell_type": "code",
   "execution_count": 284,
   "metadata": {},
   "outputs": [
    {
     "name": "stdout",
     "output_type": "stream",
     "text": [
      "-0.008235651173320552 0.1933368470215116 -1.2955258656948436 4.362641535118072\n"
     ]
    },
    {
     "data": {
      "text/plain": [
       "0"
      ]
     },
     "execution_count": 284,
     "metadata": {},
     "output_type": "execute_result"
    }
   ],
   "source": [
    "g = open('submission-2.txt','r')\n",
    "r = []\n",
    "for line in g:\n",
    "    r = line\n",
    "    print line\n",
    "r.count('\\n')"
   ]
  },
  {
   "cell_type": "code",
   "execution_count": null,
   "metadata": {},
   "outputs": [],
   "source": []
  }
 ],
 "metadata": {
  "kernelspec": {
   "display_name": "Python 3",
   "language": "python",
   "name": "python3"
  },
  "language_info": {
   "codemirror_mode": {
    "name": "ipython",
    "version": 3
   },
   "file_extension": ".py",
   "mimetype": "text/x-python",
   "name": "python",
   "nbconvert_exporter": "python",
   "pygments_lexer": "ipython3",
   "version": "3.7.3"
  }
 },
 "nbformat": 4,
 "nbformat_minor": 2
}
