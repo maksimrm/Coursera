{
 "cells": [
  {
   "cell_type": "code",
   "execution_count": 36,
   "metadata": {},
   "outputs": [
    {
     "name": "stdout",
     "output_type": "stream",
     "text": [
      "Populating the interactive namespace from numpy and matplotlib\n"
     ]
    }
   ],
   "source": [
    "import numpy as np\n",
    "import pandas as pd\n",
    "from sklearn import datasets\n",
    "from sklearn.model_selection import cross_val_score, learning_curve\n",
    "from sklearn import tree\n",
    "from sklearn import ensemble\n",
    "from matplotlib import pylab\n",
    "%pylab inline"
   ]
  },
  {
   "cell_type": "code",
   "execution_count": 6,
   "metadata": {},
   "outputs": [],
   "source": [
    "digits = datasets.load_digits()"
   ]
  },
  {
   "cell_type": "code",
   "execution_count": 27,
   "metadata": {},
   "outputs": [
    {
     "data": {
      "text/plain": [
       "(1797, 64)"
      ]
     },
     "execution_count": 27,
     "metadata": {},
     "output_type": "execute_result"
    }
   ],
   "source": [
    "digits.data.shape"
   ]
  },
  {
   "cell_type": "code",
   "execution_count": 15,
   "metadata": {},
   "outputs": [],
   "source": [
    "random_forest = tree.DecisionTreeClassifier()"
   ]
  },
  {
   "cell_type": "code",
   "execution_count": 16,
   "metadata": {},
   "outputs": [],
   "source": [
    "cross_score_ans_1 = cross_val_score(random_forest, digits.data, digits.target, cv = 10)"
   ]
  },
  {
   "cell_type": "code",
   "execution_count": 20,
   "metadata": {},
   "outputs": [],
   "source": [
    "def write_answer_1(ans):\n",
    "    with open(\"answer1.txt\", \"w\") as fout:\n",
    "        fout.write(str(ans))\n",
    "write_answer_1(cross_score_ans_1.mean())"
   ]
  },
  {
   "cell_type": "code",
   "execution_count": 22,
   "metadata": {},
   "outputs": [],
   "source": [
    "random_forest_2 = ensemble.BaggingClassifier(random_forest, n_estimators = 100)"
   ]
  },
  {
   "cell_type": "code",
   "execution_count": 25,
   "metadata": {},
   "outputs": [],
   "source": [
    "cross_score_ans_2 = cross_val_score(random_forest_2, digits.data, digits.target, cv = 10)\n",
    "def write_answer_2(ans):\n",
    "    with open(\"answer2.txt\", \"w\") as fout:\n",
    "        fout.write(str(ans))\n",
    "write_answer_2(cross_score_ans_2.mean())"
   ]
  },
  {
   "cell_type": "code",
   "execution_count": 28,
   "metadata": {},
   "outputs": [
    {
     "data": {
      "text/plain": [
       "0.9337953609960461"
      ]
     },
     "execution_count": 28,
     "metadata": {},
     "output_type": "execute_result"
    }
   ],
   "source": [
    "random_forest_3 = ensemble.BaggingClassifier(random_forest, n_estimators = 100, max_features = 8)\n",
    "cross_score_ans_3 = cross_val_score(random_forest_3, digits.data, digits.target, cv = 10)\n",
    "def write_answer_3(ans):\n",
    "    with open(\"answer3.txt\", \"w\") as fout:\n",
    "        fout.write(str(ans))\n",
    "write_answer_3(cross_score_ans_3.mean())\n",
    "\n",
    "cross_score_ans_3.mean()\n"
   ]
  },
  {
   "cell_type": "code",
   "execution_count": 31,
   "metadata": {},
   "outputs": [
    {
     "data": {
      "text/plain": [
       "0.9477765159178461"
      ]
     },
     "execution_count": 31,
     "metadata": {},
     "output_type": "execute_result"
    }
   ],
   "source": [
    "random_forest_4 = tree.DecisionTreeClassifier(max_features = 8)\n",
    "random_forest_4 = ensemble.BaggingClassifier(random_forest_4, n_estimators = 100)\n",
    "cross_score_ans_4 = cross_val_score(random_forest_4, digits.data, digits.target, cv = 10)\n",
    "def write_answer_4(ans):\n",
    "    with open(\"answer4.txt\", \"w\") as fout:\n",
    "        fout.write(str(ans))\n",
    "write_answer_4(cross_score_ans_4.mean())\n",
    "\n",
    "cross_score_ans_4.mean()\n",
    "\n"
   ]
  },
  {
   "cell_type": "code",
   "execution_count": 39,
   "metadata": {},
   "outputs": [
    {
     "data": {
      "text/plain": [
       "<matplotlib.legend.Legend at 0x1a21f419d0>"
      ]
     },
     "execution_count": 39,
     "metadata": {},
     "output_type": "execute_result"
    },
    {
     "data": {
      "image/png": "[encoded data removed]",
      "text/plain": [
       "<Figure size 432x288 with 1 Axes>"
      ]
     },
     "metadata": {
      "needs_background": "light"
     },
     "output_type": "display_data"
    }
   ],
   "source": [
    "rf_classifier_low_depth = ensemble.RandomForestClassifier(n_estimators = 50, max_depth = 5, random_state = 1)\n",
    "\n",
    "train_sizes, train_scores, test_scores = learning_curve(rf_classifier_low_depth, digits.data, digits.target, \n",
    "                                                                       train_sizes=np.arange(0.1,1., 0.2), \n",
    "                                                                       cv=3, scoring='accuracy')\n",
    "\n",
    "pylab.grid(True)\n",
    "pylab.plot(train_sizes, train_scores.mean(axis = 1), 'g-', marker='o', label='train')\n",
    "pylab.plot(train_sizes, test_scores.mean(axis = 1), 'r-', marker='o', label='test')\n",
    "pylab.ylim((0.0, 1.05))\n",
    "pylab.legend(loc='lower right')"
   ]
  },
  {
   "cell_type": "code",
   "execution_count": 59,
   "metadata": {},
   "outputs": [
    {
     "data": {
      "text/plain": [
       "<matplotlib.legend.Legend at 0x1a22ffb350>"
      ]
     },
     "execution_count": 59,
     "metadata": {},
     "output_type": "execute_result"
    },
    {
     "data": {
      "image/png": "[encoded data removed]",
      "text/plain": [
       "<Figure size 432x288 with 1 Axes>"
      ]
     },
     "metadata": {
      "needs_background": "light"
     },
     "output_type": "display_data"
    }
   ],
   "source": [
    "n_est = [i for i in range(1, 100, 5)]\n",
    "err_ot_n = []\n",
    "for i in range(1, 100, 5):\n",
    "    rf_classifier_low_depth = ensemble.RandomForestClassifier(n_estimators = i, max_depth = 5, random_state = 1)\n",
    "    err_ot_n.append(cross_val_score(rf_classifier_low_depth, digits.data, digits.target, cv = 10).mean())\n",
    "pylab.grid(True)\n",
    "pylab.plot(n_est, err_ot_n, 'r-', marker='o', label='test')\n",
    "pylab.ylim((0, 1.05))\n",
    "pylab.legend(loc='lower right')"
   ]
  },
  {
   "cell_type": "code",
   "execution_count": 60,
   "metadata": {},
   "outputs": [
    {
     "data": {
      "text/plain": [
       "<matplotlib.legend.Legend at 0x1a230b95d0>"
      ]
     },
     "execution_count": 60,
     "metadata": {},
     "output_type": "execute_result"
    },
    {
     "data": {
      "image/png": "[encoded data removed]",
      "text/plain": [
       "<Figure size 432x288 with 1 Axes>"
      ]
     },
     "metadata": {
      "needs_background": "light"
     },
     "output_type": "display_data"
    }
   ],
   "source": [
    "n_est = [i for i in range(1, 64, 2)]\n",
    "err_ot_n = []\n",
    "for i in range(1, 64, 2):\n",
    "    rf_classifier_low_depth = ensemble.RandomForestClassifier(n_estimators = 5, max_depth = i, random_state = 1)\n",
    "    err_ot_n.append(cross_val_score(rf_classifier_low_depth, digits.data, digits.target, cv = 10).mean())\n",
    "pylab.grid(True)\n",
    "pylab.plot(n_est, err_ot_n, 'r-', marker='o', label='test')\n",
    "pylab.ylim((0, 1.05))\n",
    "pylab.legend(loc='lower right')"
   ]
  },
  {
   "cell_type": "code",
   "execution_count": 58,
   "metadata": {},
   "outputs": [
    {
     "data": {
      "text/plain": [
       "<matplotlib.legend.Legend at 0x1a22dab290>"
      ]
     },
     "execution_count": 58,
     "metadata": {},
     "output_type": "execute_result"
    },
    {
     "data": {
      "image/png": "[encoded data removed]",
      "text/plain": [
       "<Figure size 432x288 with 1 Axes>"
      ]
     },
     "metadata": {
      "needs_background": "light"
     },
     "output_type": "display_data"
    }
   ],
   "source": [
    "n_est = [i for i in range(1, 64, 2)]\n",
    "err_ot_n = []\n",
    "for i in range(1, 64, 2):\n",
    "    rf_classifier_low_depth = ensemble.RandomForestClassifier(n_estimators = 10, max_depth = 10, random_state = 1, max_features = i)\n",
    "    err_ot_n.append(cross_val_score(rf_classifier_low_depth, digits.data, digits.target, cv = 10).mean())\n",
    "pylab.grid(True)\n",
    "pylab.plot(n_est, err_ot_n, 'r-', marker='o', label='test')\n",
    "pylab.ylim((0.8, 1.05))\n",
    "pylab.legend(loc='lower right')"
   ]
  },
  {
   "cell_type": "code",
   "execution_count": 66,
   "metadata": {},
   "outputs": [],
   "source": [
    "\n",
    "ans = [\"2\",\"3\", \"4\", \"7\"]\n",
    "def write_answer_5(ans):\n",
    "    with open(\"answer4.txt\", \"w\") as fout:\n",
    "        fout.write(ans)\n",
    "write_answer_5(\" \".join(ans))"
   ]
  },
  {
   "cell_type": "code",
   "execution_count": 5,
   "metadata": {},
   "outputs": [],
   "source": [
    "a = '5 6'\n",
    "b =a.split(' ')"
   ]
  },
  {
   "cell_type": "code",
   "execution_count": 6,
   "metadata": {},
   "outputs": [
    {
     "data": {
      "text/plain": [
       "['5', '6']"
      ]
     },
     "execution_count": 6,
     "metadata": {},
     "output_type": "execute_result"
    }
   ],
   "source": [
    "b"
   ]
  },
  {
   "cell_type": "code",
   "execution_count": 7,
   "metadata": {},
   "outputs": [
    {
     "data": {
      "text/plain": [
       "5"
      ]
     },
     "execution_count": 7,
     "metadata": {},
     "output_type": "execute_result"
    }
   ],
   "source": [
    "int(b[0])"
   ]
  },
  {
   "cell_type": "code",
   "execution_count": null,
   "metadata": {},
   "outputs": [],
   "source": []
  }
 ],
 "metadata": {
  "kernelspec": {
   "display_name": "Python 3",
   "language": "python",
   "name": "python3"
  },
  "language_info": {
   "codemirror_mode": {
    "name": "ipython",
    "version": 3
   },
   "file_extension": ".py",
   "mimetype": "text/x-python",
   "name": "python",
   "nbconvert_exporter": "python",
   "pygments_lexer": "ipython3",
   "version": "3.7.2"
  }
 },
 "nbformat": 4,
 "nbformat_minor": 2
}
